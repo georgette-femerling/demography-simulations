{
 "cells": [
  {
   "cell_type": "code",
   "execution_count": 1,
   "metadata": {},
   "outputs": [],
   "source": [
    "# Import libraries\n",
    "import moments, moments.LD\n",
    "import pandas as pd, numpy as np\n",
    "import demes, demesdraw, matplotlib.pylab as plt\n",
    "import msprime as ms\n",
    "\n",
    "import model, slice, get_LD, plot_LD"
   ]
  },
  {
   "cell_type": "code",
   "execution_count": null,
   "metadata": {},
   "outputs": [],
   "source": []
  }
 ],
 "metadata": {
  "kernelspec": {
   "display_name": "moments",
   "language": "python",
   "name": "python3"
  },
  "language_info": {
   "codemirror_mode": {
    "name": "ipython",
    "version": 3
   },
   "file_extension": ".py",
   "mimetype": "text/x-python",
   "name": "python",
   "nbconvert_exporter": "python",
   "pygments_lexer": "ipython3",
   "version": "3.8.10"
  },
  "orig_nbformat": 4,
  "vscode": {
   "interpreter": {
    "hash": "9eaea9f47c4f59e180fbefe3fbc29feb613fdc2f7d4b2cc5b2448240dbe2688e"
   }
  }
 },
 "nbformat": 4,
 "nbformat_minor": 2
}
