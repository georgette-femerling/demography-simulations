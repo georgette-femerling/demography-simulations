{
 "cells": [
  {
   "cell_type": "code",
   "execution_count": 52,
   "metadata": {},
   "outputs": [],
   "source": [
    "# Import libraries\n",
    "import moments, moments.LD\n",
    "from collections import defaultdict\n",
    "import numpy as np\n"
   ]
  },
  {
   "cell_type": "code",
   "execution_count": 3,
   "metadata": {},
   "outputs": [],
   "source": [
    "def slice_timepoints(g,time_points):\n",
    "    sliced_dict = defaultdict()\n",
    "    for time in time_points:\n",
    "        slicedg = moments.Demes.DemesUtil.slice(g, time)\n",
    "        sliced_dict[time] = slicedg\n",
    "    return sliced_dict"
   ]
  },
  {
   "cell_type": "code",
   "execution_count": 1,
   "metadata": {},
   "outputs": [],
   "source": [
    "def sample_timepoints(graph, time_points_perdeme = 3, anc_end_time=50000):\n",
    "    times = []\n",
    "    times_dic = defaultdict()\n",
    "    for deme in graph.demes:\n",
    "        deme = deme.name\n",
    "        time = np.linspace(graph[deme].end_time+1,graph[deme].start_time-1,time_points_perdeme,dtype=int) if graph[deme].start_time != float('inf') else np.linspace(graph[deme].end_time+1,graph[deme].end_time+anc_end_time,time_points_perdeme,dtype=int)\n",
    "        times = np.concatenate([times,time])\n",
    "        times_dic[deme] = time\n",
    "    return np.unique(np.flip(times)),times_dic"
   ]
  },
  {
   "cell_type": "code",
   "execution_count": null,
   "metadata": {},
   "outputs": [],
   "source": []
  }
 ],
 "metadata": {
  "kernelspec": {
   "display_name": "Python 3 (ipykernel)",
   "language": "python",
   "name": "python3"
  },
  "orig_nbformat": 4,
  "vscode": {
   "interpreter": {
    "hash": "a4abea4dc081ac809b566aeac9e7328d230a19c6ca62015e680cdec645a53720"
   }
  }
 },
 "nbformat": 4,
 "nbformat_minor": 2
}
