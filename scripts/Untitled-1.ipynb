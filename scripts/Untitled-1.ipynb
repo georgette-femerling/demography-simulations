{
 "cells": [
  {
   "cell_type": "code",
   "execution_count": null,
   "metadata": {},
   "outputs": [],
   "source": [
    "# Import libraries\n",
    "import moments, moments.LD\n",
    "import pandas as pd, numpy as np\n",
    "from collections import defaultdict\n",
    "import demes, demesdraw, matplotlib.pylab as plt\n",
    "import msprime as ms\n",
    "\n",
    "import model, slice, get_LD, plot_LD"
   ]
  },
  {
   "cell_type": "code",
   "execution_count": null,
   "metadata": {},
   "outputs": [],
   "source": []
  }
 ],
 "metadata": {
  "kernelspec": {
   "display_name": "Python 3",
   "language": "python",
   "name": "python3"
  },
  "language_info": {
   "name": "python",
   "version": "3.7.7 (default, May  5 2020, 15:36:34) \n[GCC 9.3.0]"
  },
  "orig_nbformat": 4,
  "vscode": {
   "interpreter": {
    "hash": "e41d4561028816b5428aebb83a83c059bdf12e0224e471a2c21e6a82f3a5abf0"
   }
  }
 },
 "nbformat": 4,
 "nbformat_minor": 2
}
