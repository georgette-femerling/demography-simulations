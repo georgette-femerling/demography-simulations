{
 "cells": [
  {
   "cell_type": "code",
   "execution_count": 1,
   "metadata": {},
   "outputs": [],
   "source": [
    "# Import libraries\n",
    "import moments, moments.LD\n",
    "import pandas as pd, numpy as np\n",
    "from collections import defaultdict\n",
    "import demes, demesdraw, matplotlib.pylab as plt\n",
    "import msprime as ms\n",
    "\n",
    "import model, slice, get_LD, plot_LD"
   ]
  },
  {
   "attachments": {},
   "cell_type": "markdown",
   "metadata": {},
   "source": [
    "##### Functions"
   ]
  },
  {
   "cell_type": "code",
   "execution_count": 2,
   "metadata": {},
   "outputs": [],
   "source": [
    "def plot_iicr(iirc,T): \n",
    "    plt.plot(T, iirc)\n",
    "    plt.xticks(fontsize= 12)\n",
    "    plt.yticks(fontsize= 12)\n",
    "    plt.yscale(\"log\")\n",
    "    plt.xscale(\"log\")\n",
    "    plt.xlabel(\"time ago (years)\",fontsize = 14)\n",
    "    plt.ylabel(r\"IICR\",fontsize = 14);"
   ]
  },
  {
   "cell_type": "code",
   "execution_count": 3,
   "metadata": {},
   "outputs": [],
   "source": [
    "def plot_comparison(LDpop1,LDpop2,labels=[\"Original\",\"Size Change\"]):\n",
    "    rhos = np.logspace(-2, 2, 21)\n",
    "    \n",
    "    # plot D2\n",
    "    f = plt.figure(figsize=(10,3))\n",
    "    ax = f.add_subplot(121)\n",
    "    ax2 = f.add_subplot(122)\n",
    "\n",
    "    ax.plot(rhos,LDpop1[:,0],label=labels[0])\n",
    "    ax.plot(rhos,LDpop2[:,0],label=labels[1])\n",
    "    ax.legend()\n",
    "    ax.set_yscale(\"log\")\n",
    "    ax.set_xscale(\"log\")\n",
    "    ax.set_ylabel(r\"$\\sigma_d^2$\")\n",
    "    ax.set_xlabel(r\"$\\rho$\")\n",
    "\n",
    "    # plot DZ\n",
    "    ax2.plot(rhos,LDpop1[:,1],label=labels[0])\n",
    "    ax2.plot(rhos,LDpop2[:,1],label=labels[1])\n",
    "    ax2.legend()\n",
    "    ax2.set_yscale(\"log\")\n",
    "    ax2.set_xscale(\"log\")\n",
    "    ax2.set_ylabel(r\"$\\sigma_{Dz}$\")\n",
    "    ax2.set_xlabel(r\"$\\rho$\")\n",
    "\n",
    "    plt.tight_layout()\n",
    "    plt.show()"
   ]
  },
  {
   "cell_type": "code",
   "execution_count": 4,
   "metadata": {},
   "outputs": [],
   "source": [
    "def size_change(Ns,time_period,yaml_filename=None,plot=True,plot_filename=None,time_units=\"years\",generation_time=29):\n",
    "    \n",
    "    if time_units == \"generations\":\n",
    "        generation_time=1\n",
    "\n",
    "    m = demes.Builder(time_units=time_units,generation_time=generation_time)\n",
    "    current_time=np.array(time_period).sum()\n",
    "\n",
    "    epochs = []\n",
    "    for N,time in zip(Ns,time_period):\n",
    "        epoch = dict(start_size=N,end_time=current_time-time)\n",
    "        current_time=current_time-time\n",
    "        epochs.append(epoch)\n",
    "\n",
    "    m.add_deme(\"Deme\",epochs=epochs)\n",
    "\n",
    "    # Resolve model\n",
    "    graph = m.resolve()\n",
    "\n",
    "    # Check demographic events\n",
    "    print(epochs)\n",
    "    \n",
    "    # option to save to yaml\n",
    "    if yaml_filename != None:\n",
    "        demes.dump(graph, yaml_filename, format='yaml', simplified=True)\n",
    "    \n",
    "    if plot:\n",
    "        p = demesdraw.tubes(graph, log_time=True, num_lines_per_migration=3)\n",
    "        if plot_filename != None:\n",
    "            p.figure.savefig(plot_filename+\".pdf\")\n",
    "    \n",
    "    return graph "
   ]
  },
  {
   "attachments": {},
   "cell_type": "markdown",
   "metadata": {},
   "source": [
    "##### Arguments for models"
   ]
  },
  {
   "cell_type": "code",
   "execution_count": 5,
   "metadata": {},
   "outputs": [],
   "source": [
    "N = 20e3\n",
    "time_period = 0.1*N"
   ]
  },
  {
   "attachments": {},
   "cell_type": "markdown",
   "metadata": {},
   "source": [
    "##### 1. Constant population"
   ]
  },
  {
   "cell_type": "code",
   "execution_count": 6,
   "metadata": {},
   "outputs": [
    {
     "data": {
      "text/plain": [
       "<AxesSubplot:ylabel='time ago (generations)'>"
      ]
     },
     "execution_count": 6,
     "metadata": {},
     "output_type": "execute_result"
    },
    {
     "name": "stderr",
     "output_type": "stream",
     "text": [
      "WARNING:matplotlib.font_manager:findfont: Font family ['sans-serif'] not found. Falling back to DejaVu Sans.\n",
      "WARNING:matplotlib.font_manager:findfont: Generic family 'sans-serif' not found because none of the following families were found: Helvetica\n",
      "WARNING:matplotlib.font_manager:findfont: Font family ['sans-serif'] not found. Falling back to DejaVu Sans.\n",
      "WARNING:matplotlib.font_manager:findfont: Generic family 'sans-serif' not found because none of the following families were found: Helvetica\n"
     ]
    },
    {
     "data": {
      "image/png": "[encoded data removed]",
      "text/plain": [
       "<Figure size 512x288 with 1 Axes>"
      ]
     },
     "metadata": {
      "needs_background": "light"
     },
     "output_type": "display_data"
    }
   ],
   "source": [
    "constant = demes.Builder()\n",
    "constant.add_deme(\"Deme\",epochs=[dict(start_size=N)])\n",
    "graph = constant.resolve()\n",
    "demesdraw.tubes(graph, log_time=False, num_lines_per_migration=3)"
   ]
  },
  {
   "cell_type": "code",
   "execution_count": 10,
   "metadata": {},
   "outputs": [],
   "source": [
    "T,times_dic = slice.sample_timepoints(graph)"
   ]
  },
  {
   "cell_type": "code",
   "execution_count": 7,
   "metadata": {},
   "outputs": [],
   "source": [
    "# Compute LD \n",
    "c_sliced = slice.slice_timepoints(graph,time_points=[0])\n",
    "c_sliced_LD = get_LD.get_LD_from_sliced_demes(c_sliced)"
   ]
  },
  {
   "cell_type": "code",
   "execution_count": 11,
   "metadata": {},
   "outputs": [],
   "source": [
    "c_R, c_iicr, _ = model.get_iicr(graph,pop=\"Deme\",T=T)\n",
    "c_sc = model.size_change_from_iicr(c_iicr,T,time_units=\"generations\",plot=False)"
   ]
  },
  {
   "cell_type": "code",
   "execution_count": 12,
   "metadata": {},
   "outputs": [
    {
     "name": "stderr",
     "output_type": "stream",
     "text": [
      "WARNING:matplotlib.font_manager:findfont: Font family ['sans-serif'] not found. Falling back to DejaVu Sans.\n",
      "WARNING:matplotlib.font_manager:findfont: Generic family 'sans-serif' not found because none of the following families were found: Helvetica\n",
      "WARNING:matplotlib.font_manager:findfont: Font family ['sans-serif'] not found. Falling back to DejaVu Sans.\n",
      "WARNING:matplotlib.font_manager:findfont: Generic family 'sans-serif' not found because none of the following families were found: Helvetica\n"
     ]
    },
    {
     "data": {
      "image/png": "[encoded data removed]",
      "text/plain": [
       "<Figure size 432x288 with 1 Axes>"
      ]
     },
     "metadata": {
      "needs_background": "light"
     },
     "output_type": "display_data"
    }
   ],
   "source": [
    "plot_iicr(c_iicr,T)"
   ]
  },
  {
   "cell_type": "code",
   "execution_count": 13,
   "metadata": {},
   "outputs": [],
   "source": [
    "# Actually slice\n",
    "c_sc_sliced = slice.slice_timepoints(c_sc,time_points=[0])\n",
    "c_sc_sliced_LD = get_LD.get_LD_from_sliced_demes(c_sc_sliced)"
   ]
  },
  {
   "cell_type": "code",
   "execution_count": 14,
   "metadata": {},
   "outputs": [
    {
     "data": {
      "image/png": "[encoded data removed]",
      "text/plain": [
       "<Figure size 720x216 with 2 Axes>"
      ]
     },
     "metadata": {
      "needs_background": "light"
     },
     "output_type": "display_data"
    }
   ],
   "source": [
    "plot_comparison(c_sliced_LD['Deme'][-1],c_sc_sliced_LD['Deme'][-1])"
   ]
  },
  {
   "attachments": {},
   "cell_type": "markdown",
   "metadata": {},
   "source": [
    "##### 2. Size change - No structure"
   ]
  },
  {
   "cell_type": "code",
   "execution_count": 15,
   "metadata": {},
   "outputs": [
    {
     "name": "stdout",
     "output_type": "stream",
     "text": [
      "[{'start_size': 20000.0, 'end_time': 4000.0}, {'start_size': 2000.0, 'end_time': 1000.0}, {'start_size': 10000.0, 'end_time': 0.0}]\n"
     ]
    },
    {
     "data": {
      "image/png": "[encoded data removed]",
      "text/plain": [
       "<Figure size 512x288 with 1 Axes>"
      ]
     },
     "metadata": {
      "needs_background": "light"
     },
     "output_type": "display_data"
    }
   ],
   "source": [
    "sc_model = size_change(Ns=[N,N/10,N/2],time_period=[time_period,time_period*1.5,time_period/2],time_units=\"generations\")"
   ]
  },
  {
   "cell_type": "code",
   "execution_count": 16,
   "metadata": {},
   "outputs": [],
   "source": [
    "# Sample times at epochs\n",
    "T,times_dic = slice.sample_timepoints(sc_model)\n",
    "# Compute LD \n",
    "sc_sliced = slice.slice_timepoints(sc_model,time_points=[0])\n",
    "sc_sliced_LD = get_LD.get_LD_from_sliced_demes(sc_sliced)"
   ]
  },
  {
   "cell_type": "code",
   "execution_count": 17,
   "metadata": {},
   "outputs": [
    {
     "data": {
      "image/png": "[encoded data removed]",
      "text/plain": [
       "<Figure size 512x288 with 1 Axes>"
      ]
     },
     "metadata": {
      "needs_background": "light"
     },
     "output_type": "display_data"
    }
   ],
   "source": [
    "# Get IIRC\n",
    "sc_R, sc_iicr, _ = model.get_iicr(sc_model,pop=\"Deme\",T=T)\n",
    "sc_sc = model.size_change_from_iicr(sc_iicr,T,time_units=\"generations\",plot=True)"
   ]
  },
  {
   "cell_type": "code",
   "execution_count": 18,
   "metadata": {},
   "outputs": [
    {
     "data": {
      "image/png": "[encoded data removed]",
      "text/plain": [
       "<Figure size 432x288 with 1 Axes>"
      ]
     },
     "metadata": {
      "needs_background": "light"
     },
     "output_type": "display_data"
    }
   ],
   "source": [
    "plot_iicr(sc_iicr,T)"
   ]
  },
  {
   "cell_type": "code",
   "execution_count": 19,
   "metadata": {},
   "outputs": [],
   "source": [
    "# Slice the generated model and get LD\n",
    "sc_sc_sliced = slice.slice_timepoints(sc_sc,time_points=[0])\n",
    "sc_sc_sliced_LD = get_LD.get_LD_from_sliced_demes(sc_sc_sliced)"
   ]
  },
  {
   "cell_type": "code",
   "execution_count": 20,
   "metadata": {},
   "outputs": [
    {
     "data": {
      "image/png": "[encoded data removed]",
      "text/plain": [
       "<Figure size 720x216 with 2 Axes>"
      ]
     },
     "metadata": {
      "needs_background": "light"
     },
     "output_type": "display_data"
    }
   ],
   "source": [
    "plot_comparison(sc_sliced_LD['Deme'][-1],sc_sc_sliced_LD['Deme'][-1])"
   ]
  },
  {
   "attachments": {},
   "cell_type": "markdown",
   "metadata": {},
   "source": [
    "##### 3. Bubble, no migration"
   ]
  },
  {
   "cell_type": "code",
   "execution_count": 6,
   "metadata": {},
   "outputs": [
    {
     "name": "stderr",
     "output_type": "stream",
     "text": [
      "WARNING:matplotlib.font_manager:findfont: Font family ['sans-serif'] not found. Falling back to DejaVu Sans.\n",
      "WARNING:matplotlib.font_manager:findfont: Generic family 'sans-serif' not found because none of the following families were found: Helvetica\n"
     ]
    },
    {
     "name": "stdout",
     "output_type": "stream",
     "text": [
      "[Split(parent='Ancestral', children=['Split_01', 'Split_00'], time=200200.0)]\n"
     ]
    },
    {
     "name": "stderr",
     "output_type": "stream",
     "text": [
      "WARNING:matplotlib.font_manager:findfont: Font family ['sans-serif'] not found. Falling back to DejaVu Sans.\n",
      "WARNING:matplotlib.font_manager:findfont: Generic family 'sans-serif' not found because none of the following families were found: Helvetica\n"
     ]
    },
    {
     "data": {
      "image/png": "[encoded data removed]",
      "text/plain": [
       "<Figure size 512x288 with 1 Axes>"
      ]
     },
     "metadata": {
      "needs_background": "light"
     },
     "output_type": "display_data"
    }
   ],
   "source": [
    "bubble = model.cake_model(Ns=[N,N],splits=[2],proportions=[[1/3,2/3]],time_period_merge=[N,0.01*N],time_period_splits=[N*10],migration_rate=0,generation_time=1)"
   ]
  },
  {
   "cell_type": "code",
   "execution_count": 12,
   "metadata": {},
   "outputs": [],
   "source": [
    "# Sample times at epochs\n",
    "T,times_dic = slice.sample_timepoints(bubble,anc_end_time=1e6)\n",
    "# Compute LD \n",
    "b_sliced = slice.slice_timepoints(bubble,time_points=[0])\n",
    "b_sliced_LD = get_LD.get_LD_from_sliced_demes(b_sliced)"
   ]
  },
  {
   "cell_type": "code",
   "execution_count": 8,
   "metadata": {},
   "outputs": [],
   "source": [
    "anc_end_time=2e6"
   ]
  },
  {
   "cell_type": "code",
   "execution_count": 11,
   "metadata": {},
   "outputs": [
    {
     "data": {
      "text/plain": [
       "2000000.0"
      ]
     },
     "execution_count": 11,
     "metadata": {},
     "output_type": "execute_result"
    }
   ],
   "source": [
    "anc_end_time"
   ]
  },
  {
   "cell_type": "code",
   "execution_count": 10,
   "metadata": {},
   "outputs": [
    {
     "data": {
      "text/plain": [
       "20000.0"
      ]
     },
     "execution_count": 10,
     "metadata": {},
     "output_type": "execute_result"
    }
   ],
   "source": [
    "N"
   ]
  },
  {
   "cell_type": "code",
   "execution_count": 73,
   "metadata": {},
   "outputs": [
    {
     "data": {
      "text/plain": [
       "defaultdict(None,\n",
       "            {'Ancestral': [1999999.0, 1100100.0, 200200.0],\n",
       "             'Split_00': [200199.0, 100200.0, 200.0],\n",
       "             'Split_01': [200199.0, 100200.0, 200.0],\n",
       "             'Merge_1': [199.0, 100.0, 0.0]})"
      ]
     },
     "execution_count": 73,
     "metadata": {},
     "output_type": "execute_result"
    }
   ],
   "source": [
    "times_dic"
   ]
  },
  {
   "cell_type": "code",
   "execution_count": 74,
   "metadata": {},
   "outputs": [
    {
     "data": {
      "text/plain": [
       "array([0.000000e+00, 1.000000e+02, 1.990000e+02, 2.000000e+02,\n",
       "       1.002000e+05, 2.001990e+05, 2.002000e+05, 1.100100e+06,\n",
       "       1.999999e+06])"
      ]
     },
     "execution_count": 74,
     "metadata": {},
     "output_type": "execute_result"
    }
   ],
   "source": [
    "T"
   ]
  },
  {
   "cell_type": "code",
   "execution_count": 13,
   "metadata": {},
   "outputs": [
    {
     "data": {
      "image/png": "[encoded data removed]",
      "text/plain": [
       "<Figure size 512x288 with 1 Axes>"
      ]
     },
     "metadata": {
      "needs_background": "light"
     },
     "output_type": "display_data"
    }
   ],
   "source": [
    "# Get IIRC\n",
    "b_R, b_iicr, _ = model.get_iicr(bubble,pop=\"Merge_1\",T=T)\n",
    "b_sc = model.size_change_from_iicr(b_iicr,T,time_units=\"generations\",plot=True)"
   ]
  },
  {
   "cell_type": "code",
   "execution_count": 14,
   "metadata": {},
   "outputs": [
    {
     "name": "stderr",
     "output_type": "stream",
     "text": [
      "WARNING:matplotlib.font_manager:findfont: Font family ['sans-serif'] not found. Falling back to DejaVu Sans.\n",
      "WARNING:matplotlib.font_manager:findfont: Generic family 'sans-serif' not found because none of the following families were found: Helvetica\n",
      "WARNING:matplotlib.font_manager:findfont: Font family ['sans-serif'] not found. Falling back to DejaVu Sans.\n",
      "WARNING:matplotlib.font_manager:findfont: Generic family 'sans-serif' not found because none of the following families were found: Helvetica\n"
     ]
    },
    {
     "data": {
      "image/png": "[encoded data removed]",
      "text/plain": [
       "<Figure size 432x288 with 1 Axes>"
      ]
     },
     "metadata": {
      "needs_background": "light"
     },
     "output_type": "display_data"
    }
   ],
   "source": [
    "plot_iicr(b_iicr,T)"
   ]
  },
  {
   "cell_type": "code",
   "execution_count": 48,
   "metadata": {},
   "outputs": [],
   "source": [
    "# Slice the generated model and get LD\n",
    "b_sc_sliced = slice.slice_timepoints(b_sc,time_points=[0])\n",
    "b_sc_sliced_LD = get_LD.get_LD_from_sliced_demes(b_sc_sliced)"
   ]
  },
  {
   "cell_type": "code",
   "execution_count": 49,
   "metadata": {},
   "outputs": [
    {
     "data": {
      "image/png": "[encoded data removed]",
      "text/plain": [
       "<Figure size 720x216 with 2 Axes>"
      ]
     },
     "metadata": {
      "needs_background": "light"
     },
     "output_type": "display_data"
    }
   ],
   "source": [
    "plot_comparison(b_sliced_LD['Merge_1'][-1],b_sc_sliced_LD['Deme'][-1])"
   ]
  },
  {
   "attachments": {},
   "cell_type": "markdown",
   "metadata": {},
   "source": [
    "##### 4. Isolation with Migration model"
   ]
  },
  {
   "cell_type": "code",
   "execution_count": 189,
   "metadata": {},
   "outputs": [
    {
     "data": {
      "text/plain": [
       "<AxesSubplot:ylabel='time ago (generations)'>"
      ]
     },
     "execution_count": 189,
     "metadata": {},
     "output_type": "execute_result"
    },
    {
     "data": {
      "image/png": "[encoded data removed]",
      "text/plain": [
       "<Figure size 512x288 with 1 Axes>"
      ]
     },
     "metadata": {
      "needs_background": "light"
     },
     "output_type": "display_data"
    }
   ],
   "source": [
    "migration_rate1=1e-4\n",
    "migration_rate2=1e-2\n",
    "\n",
    "m = demes.Builder(time_units=\"generations\")\n",
    "\n",
    "#  Add first Ancestor\n",
    "m.add_deme(\"Ancestral\",epochs=[dict(start_size=N, end_time=time_period)])\n",
    "\n",
    "m.add_deme(\"Deme1\",ancestors=[\"Ancestral\"],epochs=[dict(start_size=N/3)])\n",
    "m.add_deme(\"Deme2\",ancestors=[\"Ancestral\"],epochs=[dict(start_size=N/3)])\n",
    "m.add_deme(\"Deme3\",ancestors=[\"Ancestral\"],epochs=[dict(start_size=N/3)])\n",
    "m.add_migration(demes = [\"Deme1\",\"Deme2\"], rate = migration_rate1, end_time=time_period/2)\n",
    "m.add_migration(demes = [\"Deme3\",\"Deme2\"], rate = migration_rate1, end_time=time_period/2)\n",
    "\n",
    "m.add_migration(demes = [\"Deme1\",\"Deme2\"], rate = migration_rate1, start_time=time_period/6, end_time=1)\n",
    "m.add_migration(demes = [\"Deme3\",\"Deme2\"], rate = migration_rate2, start_time=time_period/6 ,end_time=1)\n",
    "\n",
    "IM = m.resolve()\n",
    "demesdraw.tubes(IM, log_time=False, num_lines_per_migration=3)"
   ]
  },
  {
   "cell_type": "code",
   "execution_count": 198,
   "metadata": {},
   "outputs": [
    {
     "data": {
      "text/plain": [
       "<bound method Graph.discrete_demographic_events of Graph(description='', time_units='generations', generation_time=1, doi=[], metadata={}, demes=[Deme(name='Ancestral', description='', start_time=inf, ancestors=[], proportions=[], epochs=[Epoch(start_time=inf, end_time=2000.0, start_size=20000.0, end_size=20000.0, size_function='constant', selfing_rate=0, cloning_rate=0)]), Deme(name='Deme1', description='', start_time=2000.0, ancestors=['Ancestral'], proportions=[1.0], epochs=[Epoch(start_time=2000.0, end_time=0, start_size=6666.666666666667, end_size=6666.666666666667, size_function='constant', selfing_rate=0, cloning_rate=0)]), Deme(name='Deme2', description='', start_time=2000.0, ancestors=['Ancestral'], proportions=[1.0], epochs=[Epoch(start_time=2000.0, end_time=0, start_size=6666.666666666667, end_size=6666.666666666667, size_function='constant', selfing_rate=0, cloning_rate=0)]), Deme(name='Deme3', description='', start_time=2000.0, ancestors=['Ancestral'], proportions=[1.0], epochs=[Epoch(start_time=2000.0, end_time=0, start_size=6666.666666666667, end_size=6666.666666666667, size_function='constant', selfing_rate=0, cloning_rate=0)])], migrations=[AsymmetricMigration(source='Deme1', dest='Deme2', start_time=2000.0, end_time=1000.0, rate=0.0001), AsymmetricMigration(source='Deme2', dest='Deme1', start_time=2000.0, end_time=1000.0, rate=0.0001), AsymmetricMigration(source='Deme3', dest='Deme2', start_time=2000.0, end_time=1000.0, rate=0.0001), AsymmetricMigration(source='Deme2', dest='Deme3', start_time=2000.0, end_time=1000.0, rate=0.0001), AsymmetricMigration(source='Deme1', dest='Deme2', start_time=333.3333333333333, end_time=1, rate=0.0001), AsymmetricMigration(source='Deme2', dest='Deme1', start_time=333.3333333333333, end_time=1, rate=0.0001), AsymmetricMigration(source='Deme3', dest='Deme2', start_time=333.3333333333333, end_time=1, rate=0.01), AsymmetricMigration(source='Deme2', dest='Deme3', start_time=333.3333333333333, end_time=1, rate=0.01)], pulses=[])>"
      ]
     },
     "execution_count": 198,
     "metadata": {},
     "output_type": "execute_result"
    }
   ],
   "source": [
    "IM.discrete_demographic_events"
   ]
  },
  {
   "cell_type": "code",
   "execution_count": null,
   "metadata": {},
   "outputs": [],
   "source": [
    "IM = model.cake_model(Ns=[N,N/3],splits=[3],proportions=[[1/3,1/3,1/3]],time_period_merge=[N,0],time_period_splits=[N],migration_rate=0.02,generation_time=1)"
   ]
  },
  {
   "cell_type": "code",
   "execution_count": 197,
   "metadata": {},
   "outputs": [],
   "source": [
    "# Sample times at epochs\n",
    "T,times_dic = slice.sample_timepoints(IM)\n",
    "# Compute LD \n",
    "im_sliced = slice.slice_timepoints(IM,time_points=[0])\n",
    "im_sliced_LD = get_LD.get_LD_from_sliced_demes(im_sliced)"
   ]
  },
  {
   "cell_type": "code",
   "execution_count": 202,
   "metadata": {},
   "outputs": [
    {
     "data": {
      "image/png": "[encoded data removed]",
      "text/plain": [
       "<Figure size 512x288 with 1 Axes>"
      ]
     },
     "metadata": {
      "needs_background": "light"
     },
     "output_type": "display_data"
    }
   ],
   "source": [
    "# Get IIRC\n",
    "im_R,im_iicr, _ = model.get_iicr(IM,pop=\"Deme1\",T=T)\n",
    "im_sc = model.size_change_from_iicr(im_iicr,times_dic['Deme1'],time_units=\"generations\",plot=True)"
   ]
  },
  {
   "cell_type": "code",
   "execution_count": null,
   "metadata": {},
   "outputs": [],
   "source": []
  }
 ],
 "metadata": {
  "kernelspec": {
   "display_name": "moments",
   "language": "python",
   "name": "python3"
  },
  "language_info": {
   "codemirror_mode": {
    "name": "ipython",
    "version": 3
   },
   "file_extension": ".py",
   "mimetype": "text/x-python",
   "name": "python",
   "nbconvert_exporter": "python",
   "pygments_lexer": "ipython3",
   "version": "3.8.10 (default, Jun 16 2021, 14:20:20) \n[GCC 9.3.0]"
  },
  "orig_nbformat": 4,
  "vscode": {
   "interpreter": {
    "hash": "9eaea9f47c4f59e180fbefe3fbc29feb613fdc2f7d4b2cc5b2448240dbe2688e"
   }
  }
 },
 "nbformat": 4,
 "nbformat_minor": 2
}
