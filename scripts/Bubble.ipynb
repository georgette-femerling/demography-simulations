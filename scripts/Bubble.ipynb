{
 "cells": [
  {
   "cell_type": "code",
   "execution_count": 1,
   "metadata": {},
   "outputs": [],
   "source": [
    "# Import libraries\n",
    "import moments, moments.LD\n",
    "import pandas as pd, numpy as np\n",
    "from collections import defaultdict\n",
    "import demes, demesdraw, matplotlib.pylab as plt\n",
    "import msprime as ms\n",
    "\n",
    "import model, slice, get_LD, plot_LD"
   ]
  },
  {
   "cell_type": "code",
   "execution_count": 2,
   "metadata": {},
   "outputs": [],
   "source": [
    "def plot_comparison(LDpop1,LDpop2,labels=[\"Original\",\"Size Change\"]):\n",
    "    rhos = np.logspace(-2, 2, 21)\n",
    "    \n",
    "    # plot D2\n",
    "    f = plt.figure(figsize=(10,3))\n",
    "    ax = f.add_subplot(121)\n",
    "    ax2 = f.add_subplot(122)\n",
    "\n",
    "    ax.plot(rhos,LDpop1[:,0],label=labels[0])\n",
    "    ax.plot(rhos,LDpop2[:,0],label=labels[1])\n",
    "    ax.legend()\n",
    "    ax.set_yscale(\"log\")\n",
    "    ax.set_xscale(\"log\")\n",
    "    ax.set_ylabel(r\"$\\sigma_d^2$\")\n",
    "    ax.set_xlabel(r\"$\\rho$\")\n",
    "\n",
    "    # plot DZ\n",
    "    ax2.plot(rhos,LDpop1[:,1],label=labels[0])\n",
    "    ax2.plot(rhos,LDpop2[:,1],label=labels[1])\n",
    "    ax2.legend()\n",
    "    ax2.set_yscale(\"log\")\n",
    "    ax2.set_xscale(\"log\")\n",
    "    ax2.set_ylabel(r\"$\\sigma_{Dz}$\")\n",
    "    ax2.set_xlabel(r\"$\\rho$\")\n",
    "\n",
    "    plt.tight_layout()\n",
    "    plt.show()\n",
    "\n",
    "def plot_iicr(iirc,T): \n",
    "    plt.plot(T, iirc)\n",
    "    plt.xticks(fontsize= 12)\n",
    "    plt.yticks(fontsize= 12)\n",
    "    plt.yscale(\"log\")\n",
    "    plt.xscale(\"log\")\n",
    "    plt.xlabel(\"time ago (years)\",fontsize = 14)\n",
    "    plt.ylabel(r\"IICR\",fontsize = 14);"
   ]
  },
  {
   "cell_type": "code",
   "execution_count": 6,
   "metadata": {},
   "outputs": [],
   "source": [
    "N = 20e3\n",
    "time_period = 0.1*N"
   ]
  },
  {
   "cell_type": "code",
   "execution_count": 3,
   "metadata": {},
   "outputs": [
    {
     "data": {
      "text/plain": [
       "<AxesSubplot:ylabel='time ago (generations)'>"
      ]
     },
     "execution_count": 3,
     "metadata": {},
     "output_type": "execute_result"
    },
    {
     "name": "stderr",
     "output_type": "stream",
     "text": [
      "WARNING:matplotlib.font_manager:findfont: Font family ['sans-serif'] not found. Falling back to DejaVu Sans.\n",
      "WARNING:matplotlib.font_manager:findfont: Generic family 'sans-serif' not found because none of the following families were found: Helvetica\n",
      "WARNING:matplotlib.font_manager:findfont: Font family ['sans-serif'] not found. Falling back to DejaVu Sans.\n",
      "WARNING:matplotlib.font_manager:findfont: Generic family 'sans-serif' not found because none of the following families were found: Helvetica\n"
     ]
    },
    {
     "data": {
      "image/png": "[encoded data removed]",
      "text/plain": [
       "<Figure size 512x288 with 1 Axes>"
      ]
     },
     "metadata": {
      "needs_background": "light"
     },
     "output_type": "display_data"
    }
   ],
   "source": [
    "# Constant model\n",
    "constant = demes.Builder()\n",
    "constant.add_deme(\"constant\",epochs=[dict(start_size=N)])\n",
    "graph = constant.resolve()\n",
    "demesdraw.tubes(graph, log_time=False, num_lines_per_migration=3)"
   ]
  },
  {
   "attachments": {},
   "cell_type": "markdown",
   "metadata": {},
   "source": [
    "### Size Change model"
   ]
  },
  {
   "cell_type": "code",
   "execution_count": 57,
   "metadata": {},
   "outputs": [],
   "source": [
    "def size_change(Ns,time_period,yaml_filename=None,plot=True,plot_filename=None,time_units=\"years\",generation_time=29):\n",
    "    \n",
    "    if time_units == \"generations\":\n",
    "        generation_time=1\n",
    "\n",
    "    m = demes.Builder(time_units=time_units,generation_time=generation_time)\n",
    "    current_time=np.array(time_period).sum()\n",
    "\n",
    "    epochs = []\n",
    "    for N,time in zip(Ns,time_period):\n",
    "        epoch = dict(start_size=N,end_time=current_time-time)\n",
    "        current_time=current_time-time\n",
    "        epochs.append(epoch)\n",
    "\n",
    "    m.add_deme(\"Deme\",epochs=epochs)\n",
    "\n",
    "    # Resolve model\n",
    "    graph = m.resolve()\n",
    "\n",
    "    # Check demographic events\n",
    "    print(epochs)\n",
    "    \n",
    "    # option to save to yaml\n",
    "    if yaml_filename != None:\n",
    "        demes.dump(graph, yaml_filename, format='yaml', simplified=True)\n",
    "    \n",
    "    if plot:\n",
    "        p = demesdraw.tubes(graph, log_time=True, num_lines_per_migration=3)\n",
    "        if plot_filename != None:\n",
    "            p.figure.savefig(plot_filename+\".pdf\")\n",
    "    \n",
    "    return graph "
   ]
  },
  {
   "cell_type": "code",
   "execution_count": 72,
   "metadata": {},
   "outputs": [],
   "source": [
    "def sample_timepoints(graph,anc_end_time=100000):\n",
    "    times = []\n",
    "    times_dic = defaultdict()\n",
    "    for deme in graph.demes:\n",
    "        time = []\n",
    "        for epoch in deme.epochs:\n",
    "            start = (epoch.start_time if epoch.start_time != float('inf') else anc_end_time)\n",
    "            midway = (start + epoch.end_time)/2\n",
    "            time.extend([start-1, midway, epoch.end_time])\n",
    "        times = np.concatenate([times,time])\n",
    "        times_dic[deme.name] = time\n",
    "    return np.unique(np.flip(times)),times_dic"
   ]
  },
  {
   "cell_type": "code",
   "execution_count": 55,
   "metadata": {},
   "outputs": [
    {
     "name": "stdout",
     "output_type": "stream",
     "text": [
      "[{'start_size': 20000.0, 'end_time': 4000.0}, {'start_size': 2000.0, 'end_time': 1000.0}, {'start_size': 20000.0, 'end_time': 0.0}]\n"
     ]
    },
    {
     "data": {
      "image/png": "[encoded data removed]",
      "text/plain": [
       "<Figure size 512x288 with 1 Axes>"
      ]
     },
     "metadata": {
      "needs_background": "light"
     },
     "output_type": "display_data"
    }
   ],
   "source": [
    "#Size change model\n",
    "sc_model = size_change(Ns=[N,N/10,N],time_period=[time_period,time_period*1.5,time_period/2],time_units=\"generations\")"
   ]
  },
  {
   "cell_type": "code",
   "execution_count": 73,
   "metadata": {},
   "outputs": [],
   "source": [
    "T,times_dic = sample_timepoints(sc_model)\n",
    "times_in_gen = T/29\n",
    "times_in_gen[0] = 1"
   ]
  },
  {
   "cell_type": "code",
   "execution_count": 64,
   "metadata": {},
   "outputs": [
    {
     "data": {
      "text/plain": [
       "[Deme(name='Deme', description='', start_time=inf, ancestors=[], proportions=[], epochs=[Epoch(start_time=inf, end_time=4000.0, start_size=20000.0, end_size=20000.0, size_function='constant', selfing_rate=0, cloning_rate=0), Epoch(start_time=4000.0, end_time=1000.0, start_size=2000.0, end_size=2000.0, size_function='constant', selfing_rate=0, cloning_rate=0), Epoch(start_time=1000.0, end_time=0.0, start_size=20000.0, end_size=20000.0, size_function='constant', selfing_rate=0, cloning_rate=0)])]"
      ]
     },
     "execution_count": 64,
     "metadata": {},
     "output_type": "execute_result"
    }
   ],
   "source": [
    "sc_model.demes"
   ]
  },
  {
   "cell_type": "code",
   "execution_count": 75,
   "metadata": {},
   "outputs": [
    {
     "data": {
      "image/png": "[encoded data removed]",
      "text/plain": [
       "<Figure size 512x288 with 1 Axes>"
      ]
     },
     "metadata": {
      "needs_background": "light"
     },
     "output_type": "display_data"
    }
   ],
   "source": [
    "sc_R, sc_iicr, _ = model.get_iicr(sc_model,pop=\"Deme\",T=T)\n",
    "sc_sc = model.size_change_from_iicr(sc_iicr,T,time_units=\"years\")"
   ]
  },
  {
   "cell_type": "code",
   "execution_count": 50,
   "metadata": {},
   "outputs": [
    {
     "data": {
      "text/plain": [
       "array([1.00000000e+00, 1.72413793e+01, 3.44827586e+01, 3.45172414e+01,\n",
       "       8.62068966e+01, 1.37931034e+02, 1.37965517e+02, 1.79310345e+03,\n",
       "       3.44827586e+03])"
      ]
     },
     "execution_count": 50,
     "metadata": {},
     "output_type": "execute_result"
    }
   ],
   "source": [
    "times_in_gen"
   ]
  },
  {
   "cell_type": "code",
   "execution_count": 43,
   "metadata": {},
   "outputs": [
    {
     "data": {
      "text/plain": [
       "[Deme(name='Deme', description='', start_time=inf, ancestors=[], proportions=[], epochs=[Epoch(start_time=inf, end_time=4000.0, start_size=20000.0, end_size=20000.0, size_function='constant', selfing_rate=0, cloning_rate=0), Epoch(start_time=4000.0, end_time=1000.0, start_size=2000.0, end_size=2000.0, size_function='constant', selfing_rate=0, cloning_rate=0), Epoch(start_time=1000.0, end_time=0.0, start_size=20000.0, end_size=20000.0, size_function='constant', selfing_rate=0, cloning_rate=0)])]"
      ]
     },
     "execution_count": 43,
     "metadata": {},
     "output_type": "execute_result"
    }
   ],
   "source": [
    "sc_model.demes"
   ]
  },
  {
   "cell_type": "code",
   "execution_count": 36,
   "metadata": {},
   "outputs": [
    {
     "data": {
      "text/plain": [
       "[Deme(name='Deme', description='', start_time=inf, ancestors=[], proportions=[], epochs=[Epoch(start_time=inf, end_time=2500.0, start_size=20000.0, end_size=20000.0, size_function='constant', selfing_rate=0, cloning_rate=0), Epoch(start_time=2500.0, end_time=500.0, start_size=2000, end_size=2000, size_function='constant', selfing_rate=0, cloning_rate=0), Epoch(start_time=500.0, end_time=0, start_size=20000.0, end_size=20000.0, size_function='constant', selfing_rate=0, cloning_rate=0)])]"
      ]
     },
     "execution_count": 36,
     "metadata": {},
     "output_type": "execute_result"
    }
   ],
   "source": [
    "sc_sc.demes"
   ]
  },
  {
   "cell_type": "code",
   "execution_count": 44,
   "metadata": {},
   "outputs": [
    {
     "data": {
      "image/png": "[encoded data removed]",
      "text/plain": [
       "<Figure size 432x288 with 1 Axes>"
      ]
     },
     "metadata": {
      "needs_background": "light"
     },
     "output_type": "display_data"
    }
   ],
   "source": [
    "plot_iicr(sc_iicr,T)"
   ]
  },
  {
   "cell_type": "code",
   "execution_count": 4,
   "metadata": {},
   "outputs": [
    {
     "name": "stdout",
     "output_type": "stream",
     "text": [
      "[Split(parent='Ancestral', children=['Split_01', 'Split_00'], time=603000.0)]\n"
     ]
    },
    {
     "data": {
      "image/png": "[encoded data removed]",
      "text/plain": [
       "<Figure size 512x288 with 1 Axes>"
      ]
     },
     "metadata": {
      "needs_background": "light"
     },
     "output_type": "display_data"
    }
   ],
   "source": [
    "# Bubble\n",
    "bubble = model.cake_model(Ns=[N,N],splits=[3],proportions=[[0.25,0.75]],time_period_merge=[N,time_period],time_period_splits=[20*N],migration_rate=0.02)"
   ]
  },
  {
   "cell_type": "code",
   "execution_count": 8,
   "metadata": {},
   "outputs": [],
   "source": [
    "bubble_R,bubble_iirc,bubble_T = model.get_iirc(bubble,pop=\"Merge_1\")"
   ]
  },
  {
   "cell_type": "code",
   "execution_count": 12,
   "metadata": {},
   "outputs": [
    {
     "data": {
      "text/plain": [
       "array([0.0000e+00, 5.0000e-01, 1.0000e+00, ..., 1.4930e+04, 1.4965e+04,\n",
       "       1.5000e+04])"
      ]
     },
     "execution_count": 12,
     "metadata": {},
     "output_type": "execute_result"
    }
   ],
   "source": [
    "bubble_T"
   ]
  },
  {
   "cell_type": "code",
   "execution_count": 11,
   "metadata": {},
   "outputs": [
    {
     "data": {
      "image/png": "[encoded data removed]",
      "text/plain": [
       "<Figure size 432x288 with 1 Axes>"
      ]
     },
     "metadata": {
      "needs_background": "light"
     },
     "output_type": "display_data"
    }
   ],
   "source": [
    "plt.plot(bubble_T, bubble_irrc*10e6)\n",
    "plt.xticks(fontsize= 12)\n",
    "plt.yticks(fontsize= 12)\n",
    "plt.xlabel(\"time ago (generations)\",fontsize = 14)\n",
    "plt.ylabel(r\"IICR ($\\times 10^6$)\",fontsize = 14);\n",
    "plt.show()"
   ]
  },
  {
   "cell_type": "code",
   "execution_count": 10,
   "metadata": {},
   "outputs": [
    {
     "data": {
      "image/png": "[encoded data removed]",
      "text/plain": [
       "<Figure size 512x288 with 1 Axes>"
      ]
     },
     "metadata": {
      "needs_background": "light"
     },
     "output_type": "display_data"
    }
   ],
   "source": [
    "# Size change from bubble\n",
    "bubble_NC = model.size_change_from_IIRC(bubble_irrc,bubble_T)"
   ]
  },
  {
   "cell_type": "code",
   "execution_count": 13,
   "metadata": {},
   "outputs": [],
   "source": [
    "bubble_NC_R,bubble_NC_irrc,bubble_NC_T = model.get_iirc(bubble_NC,pop=\"Deme\")"
   ]
  },
  {
   "cell_type": "code",
   "execution_count": 14,
   "metadata": {},
   "outputs": [
    {
     "data": {
      "image/png": "[encoded data removed]",
      "text/plain": [
       "<Figure size 432x288 with 1 Axes>"
      ]
     },
     "metadata": {
      "needs_background": "light"
     },
     "output_type": "display_data"
    }
   ],
   "source": [
    "plt.plot(bubble_NC_T, bubble_NC_irrc*10e6)\n",
    "plt.xticks(fontsize= 12)\n",
    "plt.yticks(fontsize= 12)\n",
    "plt.xlabel(\"time ago (generations)\",fontsize = 14)\n",
    "plt.ylabel(r\"IRRC ($\\times 10^6$)\",fontsize = 14);\n",
    "plt.show()"
   ]
  },
  {
   "cell_type": "code",
   "execution_count": 321,
   "metadata": {},
   "outputs": [],
   "source": [
    "# Get Dstats - bubble\n",
    "y = get_LD.Dstat(bubble,sampled_demes=[\"Merge_1\"],rhos = np.logspace(-2, 2, 21),normalize=1)\n",
    "\"\"\"\n",
    "y = moments.LD.LDstats(\n",
    "    [(y_l + y_r) / 2 for y_l, y_r in zip(y[:-2], y[1:-1])] + [y[-1]],\n",
    "    num_pops=y.num_pops,\n",
    "    pop_ids=y.pop_ids,\n",
    ")\n",
    "\"\"\"\n",
    "y = moments.LD.Inference.sigmaD2(y)"
   ]
  },
  {
   "cell_type": "code",
   "execution_count": 322,
   "metadata": {},
   "outputs": [],
   "source": [
    "# Get Dstats - bubble NC\n",
    "y2 = get_LD.Dstat(bubble_NC,sampled_demes=[\"Deme\"],rhos = np.logspace(-2, 2, 21),normalize=1)\n",
    "\"\"\"\n",
    "y2 = moments.LD.LDstats(\n",
    "    [(y_l + y_r) / 2 for y_l, y_r in zip(y2[:-2], y2[1:-1])] + [y2[-1]],\n",
    "    num_pops=y2.num_pops,\n",
    "    pop_ids=y2.pop_ids,\n",
    ")\n",
    "\"\"\"\n",
    "y2 = moments.LD.Inference.sigmaD2(y2)"
   ]
  },
  {
   "cell_type": "code",
   "execution_count": 15,
   "metadata": {},
   "outputs": [],
   "source": [
    "rhos = np.logspace(-2, 2, 21)"
   ]
  },
  {
   "cell_type": "code",
   "execution_count": 324,
   "metadata": {},
   "outputs": [
    {
     "data": {
      "image/png": "[encoded data removed]",
      "text/plain": [
       "<Figure size 432x288 with 2 Axes>"
      ]
     },
     "metadata": {
      "needs_background": "light"
     },
     "output_type": "display_data"
    }
   ],
   "source": [
    "# plot D2\n",
    "plt.subplot(1,2,1)\n",
    "plt.plot(rhos,y.LD()[:,0])\n",
    "plt.plot(rhos,y2.LD()[:,0])\n",
    "plt.yscale(\"log\")\n",
    "plt.xscale(\"log\")\n",
    "plt.ylabel(r\"$\\sigma_d^2$\")\n",
    "plt.xlabel(r\"$\\rho$\")\n",
    "\n",
    "# plot DZ\n",
    "plt.subplot(1,2,2)\n",
    "plt.plot(rhos,y.LD()[:,1])\n",
    "plt.plot(rhos,y2.LD()[:,1])\n",
    "plt.yscale(\"log\")\n",
    "plt.xscale(\"log\")\n",
    "plt.ylabel(r\"$\\sigma_{Dz}$\")\n",
    "plt.xlabel(r\"$\\rho$\")\n",
    "plt.show()"
   ]
  },
  {
   "cell_type": "code",
   "execution_count": 16,
   "metadata": {},
   "outputs": [],
   "source": [
    "# get times to slice\n",
    "times = np.flip(np.linspace(bubble['Merge_1'].end_time,bubble['Merge_1'].start_time,30,dtype=int))\n",
    "times_dic = {'Merged_1':times}\n",
    "times_dic_NC = {'Deme':times}\n",
    "# Actually slice\n",
    "bubble_sliced = slice.slice_timepoints(bubble,time_points=times)\n",
    "bubble_sliced_LD = get_LD.get_LD_from_sliced_demes(bubble_sliced)\n",
    "\n",
    "bubbleNC_sliced = slice.slice_timepoints(bubble_NC,time_points=times)\n",
    "bubbleNC_sliced_LD = get_LD.get_LD_from_sliced_demes(bubbleNC_sliced)"
   ]
  },
  {
   "cell_type": "code",
   "execution_count": 17,
   "metadata": {},
   "outputs": [],
   "source": [
    "times_dic = {'Merge_1':times}\n",
    "times_dic_NC = {'Deme':times}"
   ]
  },
  {
   "cell_type": "code",
   "execution_count": 18,
   "metadata": {},
   "outputs": [
    {
     "data": {
      "text/plain": [
       "array([3000, 2896, 2793, 2689, 2586, 2482, 2379, 2275, 2172, 2068, 1965,\n",
       "       1862, 1758, 1655, 1551, 1448, 1344, 1241, 1137, 1034,  931,  827,\n",
       "        724,  620,  517,  413,  310,  206,  103,    0])"
      ]
     },
     "execution_count": 18,
     "metadata": {},
     "output_type": "execute_result"
    }
   ],
   "source": [
    "times"
   ]
  },
  {
   "cell_type": "code",
   "execution_count": 22,
   "metadata": {},
   "outputs": [
    {
     "data": {
      "image/png": "[encoded data removed]",
      "text/plain": [
       "<Figure size 720x216 with 2 Axes>"
      ]
     },
     "metadata": {
      "needs_background": "light"
     },
     "output_type": "display_data"
    }
   ],
   "source": [
    "t1 = bubble_sliced_LD['Merge_1'][-1]\n",
    "t1_NC = bubbleNC_sliced_LD['Deme'][-1]\n",
    "\n",
    "# plot D2\n",
    "f = plt.figure(figsize=(10,3))\n",
    "ax = f.add_subplot(121)\n",
    "ax2 = f.add_subplot(122)\n",
    "ax.plot(rhos,t1[:,0])\n",
    "ax.plot(rhos,t1_NC[:,0])\n",
    "ax.set_yscale(\"log\")\n",
    "ax.set_xscale(\"log\")\n",
    "ax.set_ylabel(r\"$\\sigma_d^2$\")\n",
    "ax.set_xlabel(r\"$\\rho$\")\n",
    "\n",
    "# plot DZ\n",
    "#plt.subplot(1,2,2)\n",
    "ax2.plot(rhos,t1[:,1])\n",
    "ax2.plot(rhos,t1_NC[:,1])\n",
    "ax2.set_yscale(\"log\")\n",
    "ax2.set_xscale(\"log\")\n",
    "ax2.set_ylabel(r\"$\\sigma_{Dz}$\")\n",
    "ax2.set_xlabel(r\"$\\rho$\")\n",
    "\n",
    "plt.tight_layout()\n",
    "#plt.show()\n",
    "plt.savefig(\"Deep_split_20N.pdf\",format='pdf',transparent = False)"
   ]
  },
  {
   "cell_type": "code",
   "execution_count": null,
   "metadata": {},
   "outputs": [],
   "source": [
    "# Structured - No migration\n",
    "cake = model.cake_model(Ns=[N,N,N],splits = [3,2],proportions=[[1/2,0.3,0.2],[1/3,2/3]],migration_rate=0,time_period_merge=[time_period,time_period,time_period],time_period_splits=[time_period,time_period])"
   ]
  },
  {
   "cell_type": "code",
   "execution_count": null,
   "metadata": {},
   "outputs": [],
   "source": [
    "cake_R,cake_irrc,cake_T = model.get_iirc(cake,pop=\"Merge_2\")"
   ]
  },
  {
   "cell_type": "code",
   "execution_count": null,
   "metadata": {},
   "outputs": [],
   "source": [
    "plt.plot(cake_T, cake_R*10e6)\n",
    "plt.xticks(fontsize= 12)\n",
    "plt.yticks(fontsize= 12)\n",
    "plt.xlabel(\"time ago (generations)\",fontsize = 14)\n",
    "plt.ylabel(r\"coalescence rate ($\\times 10^6$)\",fontsize = 14);\n",
    "plt.show()"
   ]
  },
  {
   "cell_type": "code",
   "execution_count": null,
   "metadata": {},
   "outputs": [],
   "source": [
    "# Change of size from structured model\n",
    "cake_NC = model.size_change_from_IIRC(cake_irrc,cake_T)"
   ]
  },
  {
   "cell_type": "code",
   "execution_count": null,
   "metadata": {},
   "outputs": [],
   "source": [
    "## LD\n",
    "y = get_LD.Dstat(cake,sampled_demes=[\"Merge_2\"],rhos = np.logspace(-2, 2, 21),normalize=0)\n",
    "y = moments.LD.LDstats(\n",
    "    [(y_l + y_r) / 2 for y_l, y_r in zip(y[:-2], y[1:-1])] + [y[-1]],\n",
    "    num_pops=y.num_pops,\n",
    "    pop_ids=y.pop_ids,\n",
    ")\n",
    "y = moments.LD.Inference.sigmaD2(y)"
   ]
  },
  {
   "cell_type": "code",
   "execution_count": null,
   "metadata": {},
   "outputs": [],
   "source": [
    "moments.LD.Plotting.plot_ld_curves(y,stats_to_plot=[[\"DD_0_0\"], [\"Dz_0_0_0\"]],rs=[],statistics=None)"
   ]
  },
  {
   "cell_type": "code",
   "execution_count": null,
   "metadata": {},
   "outputs": [],
   "source": [
    "LD_cake"
   ]
  },
  {
   "cell_type": "code",
   "execution_count": null,
   "metadata": {},
   "outputs": [],
   "source": []
  }
 ],
 "metadata": {
  "kernelspec": {
   "display_name": "moments",
   "language": "python",
   "name": "python3"
  },
  "language_info": {
   "codemirror_mode": {
    "name": "ipython",
    "version": 3
   },
   "file_extension": ".py",
   "mimetype": "text/x-python",
   "name": "python",
   "nbconvert_exporter": "python",
   "pygments_lexer": "ipython3",
   "version": "3.8.10 (default, Jun 16 2021, 14:20:20) \n[GCC 9.3.0]"
  },
  "orig_nbformat": 4,
  "vscode": {
   "interpreter": {
    "hash": "9eaea9f47c4f59e180fbefe3fbc29feb613fdc2f7d4b2cc5b2448240dbe2688e"
   }
  }
 },
 "nbformat": 4,
 "nbformat_minor": 2
}
