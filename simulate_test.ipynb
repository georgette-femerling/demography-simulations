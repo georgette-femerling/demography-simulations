{
 "cells": [
  {
   "cell_type": "code",
   "execution_count": 1,
   "metadata": {},
   "outputs": [],
   "source": [
    "import demes\n",
    "import demesdraw\n",
    "import msprime\n",
    "import tskit\n",
    "import matplotlib.pyplot as plt"
   ]
  },
  {
   "cell_type": "code",
   "execution_count": 2,
   "metadata": {},
   "outputs": [
    {
     "data": {
      "image/png": "[encoded data removed]",
      "text/plain": [
       "<Figure size 512x288 with 1 Axes>"
      ]
     },
     "metadata": {
      "needs_background": "light"
     },
     "output_type": "display_data"
    }
   ],
   "source": [
    "graph = demes.load(\"IM_to_one.yaml\")\n",
    "demesdraw.tubes(graph, inf_ratio=0.4);"
   ]
  },
  {
   "cell_type": "code",
   "execution_count": 4,
   "metadata": {},
   "outputs": [],
   "source": [
    "# Convert to ms \n",
    "demography = msprime.Demography.from_demes(graph)"
   ]
  },
  {
   "cell_type": "code",
   "execution_count": 6,
   "metadata": {},
   "outputs": [
    {
     "data": {
      "text/html": [
       "\n",
       "            <div>\n",
       "              <style>\n",
       "                .tskit-table thead tr th {text-align: left;padding: 0.5em 0.5em;}\n",
       "                .tskit-table tbody tr td {padding: 0.5em 0.5em;}\n",
       "                .tskit-table tbody tr td:first-of-type {text-align: left;}\n",
       "                .tskit-details-label {vertical-align: top; padding-right:5px;}\n",
       "                .tskit-table-set {display: inline-flex;flex-wrap: wrap;margin: -12px 0 0 -12px;width: calc(100% + 12px);}\n",
       "                .tskit-table-set-table {margin: 12px 0 0 12px;}\n",
       "                details {display: inline-block;}\n",
       "                summary {cursor: pointer; outline: 0; display: list-item;}\n",
       "              </style>\n",
       "              <div class=\"tskit-table-set\">\n",
       "                <div class=\"tskit-table-set-table\">\n",
       "                  <table class=\"tskit-table\">\n",
       "                    <thead>\n",
       "                      <tr>\n",
       "                        <th style=\"padding:0;line-height:21px;\">\n",
       "                          <img style=\"height: 32px;display: inline-block;padding: 3px 5px 3px 0;\" src=\"https://raw.githubusercontent.com/tskit-dev/administrative/main/tskit_logo.svg\"/>\n",
       "                          <a target=\"_blank\" href=\"https://tskit.dev/tskit/docs/latest/python-api.html#the-treesequence-class\"> Tree Sequence </a>\n",
       "                        </th>\n",
       "                      </tr>\n",
       "                    </thead>\n",
       "                    <tbody>\n",
       "                      <tr><td>Trees</td><td>1</td></tr>\n",
       "                      <tr><td>Sequence Length</td><td>1000.0</td></tr>\n",
       "                      <tr><td>Time Units</td><td>generations</td></tr>\n",
       "                      <tr><td>Sample Nodes</td><td>400</td></tr>\n",
       "                      <tr><td>Total Size</td><td>61.7 KiB</td></tr>\n",
       "                      <tr>\n",
       "                        <td>Metadata</td><td style=\"text-align: left;\">No Metadata</td></tr>\n",
       "                    </tbody>\n",
       "                  </table>\n",
       "                </div>\n",
       "                <div class=\"tskit-table-set-table\">\n",
       "                  <table class=\"tskit-table\">\n",
       "                    <thead>\n",
       "                      <tr>\n",
       "                        <th style=\"line-height:21px;\">Table</th>\n",
       "                        <th>Rows</th>\n",
       "                        <th>Size</th>\n",
       "                        <th>Has Metadata</th>\n",
       "                      </tr>\n",
       "                    </thead>\n",
       "                    <tbody>\n",
       "                    \n",
       "                  <tr>\n",
       "                    <td>Edges</td>\n",
       "                      <td>798</td>\n",
       "                      <td>24.9 KiB</td>\n",
       "                      <td style=\"text-align: center;\">\n",
       "                        \n",
       "                      </td>\n",
       "                    </tr>\n",
       "                \n",
       "                  <tr>\n",
       "                    <td>Individuals</td>\n",
       "                      <td>200</td>\n",
       "                      <td>5.5 KiB</td>\n",
       "                      <td style=\"text-align: center;\">\n",
       "                        \n",
       "                      </td>\n",
       "                    </tr>\n",
       "                \n",
       "                  <tr>\n",
       "                    <td>Migrations</td>\n",
       "                      <td>0</td>\n",
       "                      <td>8 Bytes</td>\n",
       "                      <td style=\"text-align: center;\">\n",
       "                        \n",
       "                      </td>\n",
       "                    </tr>\n",
       "                \n",
       "                  <tr>\n",
       "                    <td>Mutations</td>\n",
       "                      <td>0</td>\n",
       "                      <td>16 Bytes</td>\n",
       "                      <td style=\"text-align: center;\">\n",
       "                        \n",
       "                      </td>\n",
       "                    </tr>\n",
       "                \n",
       "                  <tr>\n",
       "                    <td>Nodes</td>\n",
       "                      <td>799</td>\n",
       "                      <td>21.9 KiB</td>\n",
       "                      <td style=\"text-align: center;\">\n",
       "                        \n",
       "                      </td>\n",
       "                    </tr>\n",
       "                \n",
       "                  <tr>\n",
       "                    <td>Populations</td>\n",
       "                      <td>4</td>\n",
       "                      <td>348 Bytes</td>\n",
       "                      <td style=\"text-align: center;\">\n",
       "                        ✅\n",
       "                      </td>\n",
       "                    </tr>\n",
       "                \n",
       "                  <tr>\n",
       "                    <td>Provenances</td>\n",
       "                      <td>1</td>\n",
       "                      <td>2.8 KiB</td>\n",
       "                      <td style=\"text-align: center;\">\n",
       "                        \n",
       "                      </td>\n",
       "                    </tr>\n",
       "                \n",
       "                  <tr>\n",
       "                    <td>Sites</td>\n",
       "                      <td>0</td>\n",
       "                      <td>16 Bytes</td>\n",
       "                      <td style=\"text-align: center;\">\n",
       "                        \n",
       "                      </td>\n",
       "                    </tr>\n",
       "                \n",
       "                    </tbody>\n",
       "                  </table>\n",
       "                </div>\n",
       "              </div>\n",
       "            </div>\n",
       "            "
      ],
      "text/plain": [
       "<tskit.trees.TreeSequence at 0x10f7872e0>"
      ]
     },
     "execution_count": 6,
     "metadata": {},
     "output_type": "execute_result"
    }
   ],
   "source": [
    "seqlen = 1000\n",
    "ts = msprime.sim_ancestry(samples=[msprime.SampleSet(100,population=\"deme0\", time=23000),msprime.SampleSet(100,population=\"deme1\",time=23000)], sequence_length=seqlen, demography=demography, random_seed=12)\n",
    "ts"
   ]
  },
  {
   "cell_type": "code",
   "execution_count": 5,
   "metadata": {},
   "outputs": [],
   "source": [
    "mts = msprime.sim_mutations(ts, rate=0.01, random_seed=5678)"
   ]
  },
  {
   "cell_type": "code",
   "execution_count": 11,
   "metadata": {},
   "outputs": [],
   "source": [
    "with open(\"output.vcf\", \"w\") as vcf_file:\n",
    "    mts.write_vcf(vcf_file)"
   ]
  },
  {
   "cell_type": "code",
   "execution_count": 21,
   "metadata": {},
   "outputs": [
    {
     "data": {
      "text/html": [
       "\n",
       "            <div>\n",
       "              <style>\n",
       "                .tskit-table thead tr th {text-align: left;padding: 0.5em 0.5em;}\n",
       "                .tskit-table tbody tr td {padding: 0.5em 0.5em;}\n",
       "                .tskit-table tbody tr td:first-of-type {text-align: left;}\n",
       "                .tskit-details-label {vertical-align: top; padding-right:5px;}\n",
       "                .tskit-table-set {display: inline-flex;flex-wrap: wrap;margin: -12px 0 0 -12px;width: calc(100% + 12px);}\n",
       "                .tskit-table-set-table {margin: 12px 0 0 12px;}\n",
       "                details {display: inline-block;}\n",
       "                summary {cursor: pointer; outline: 0; display: list-item;}\n",
       "              </style>\n",
       "              <div class=\"tskit-table-set\">\n",
       "                <div class=\"tskit-table-set-table\">\n",
       "                  <table class=\"tskit-table\">\n",
       "                    <thead>\n",
       "                      <tr>\n",
       "                        <th style=\"padding:0;line-height:21px;\">\n",
       "                          <img style=\"height: 32px;display: inline-block;padding: 3px 5px 3px 0;\" src=\"https://raw.githubusercontent.com/tskit-dev/administrative/main/tskit_logo.svg\"/>\n",
       "                          <a target=\"_blank\" href=\"https://tskit.dev/tskit/docs/latest/python-api.html#the-treesequence-class\"> Tree Sequence </a>\n",
       "                        </th>\n",
       "                      </tr>\n",
       "                    </thead>\n",
       "                    <tbody>\n",
       "                      <tr><td>Trees</td><td>1</td></tr>\n",
       "                      <tr><td>Sequence Length</td><td>1000.0</td></tr>\n",
       "                      <tr><td>Time Units</td><td>generations</td></tr>\n",
       "                      <tr><td>Sample Nodes</td><td>200</td></tr>\n",
       "                      <tr><td>Total Size</td><td>24.0 MiB</td></tr>\n",
       "                      <tr>\n",
       "                        <td>Metadata</td><td style=\"text-align: left;\">No Metadata</td></tr>\n",
       "                    </tbody>\n",
       "                  </table>\n",
       "                </div>\n",
       "                <div class=\"tskit-table-set-table\">\n",
       "                  <table class=\"tskit-table\">\n",
       "                    <thead>\n",
       "                      <tr>\n",
       "                        <th style=\"line-height:21px;\">Table</th>\n",
       "                        <th>Rows</th>\n",
       "                        <th>Size</th>\n",
       "                        <th>Has Metadata</th>\n",
       "                      </tr>\n",
       "                    </thead>\n",
       "                    <tbody>\n",
       "                    \n",
       "                  <tr>\n",
       "                    <td>Edges</td>\n",
       "                      <td>398</td>\n",
       "                      <td>12.4 KiB</td>\n",
       "                      <td style=\"text-align: center;\">\n",
       "                        \n",
       "                      </td>\n",
       "                    </tr>\n",
       "                \n",
       "                  <tr>\n",
       "                    <td>Individuals</td>\n",
       "                      <td>100</td>\n",
       "                      <td>2.8 KiB</td>\n",
       "                      <td style=\"text-align: center;\">\n",
       "                        \n",
       "                      </td>\n",
       "                    </tr>\n",
       "                \n",
       "                  <tr>\n",
       "                    <td>Migrations</td>\n",
       "                      <td>0</td>\n",
       "                      <td>8 Bytes</td>\n",
       "                      <td style=\"text-align: center;\">\n",
       "                        \n",
       "                      </td>\n",
       "                    </tr>\n",
       "                \n",
       "                  <tr>\n",
       "                    <td>Mutations</td>\n",
       "                      <td>679823</td>\n",
       "                      <td>24.0 MiB</td>\n",
       "                      <td style=\"text-align: center;\">\n",
       "                        \n",
       "                      </td>\n",
       "                    </tr>\n",
       "                \n",
       "                  <tr>\n",
       "                    <td>Nodes</td>\n",
       "                      <td>399</td>\n",
       "                      <td>10.9 KiB</td>\n",
       "                      <td style=\"text-align: center;\">\n",
       "                        \n",
       "                      </td>\n",
       "                    </tr>\n",
       "                \n",
       "                  <tr>\n",
       "                    <td>Populations</td>\n",
       "                      <td>4</td>\n",
       "                      <td>348 Bytes</td>\n",
       "                      <td style=\"text-align: center;\">\n",
       "                        ✅\n",
       "                      </td>\n",
       "                    </tr>\n",
       "                \n",
       "                  <tr>\n",
       "                    <td>Provenances</td>\n",
       "                      <td>2</td>\n",
       "                      <td>3.3 KiB</td>\n",
       "                      <td style=\"text-align: center;\">\n",
       "                        \n",
       "                      </td>\n",
       "                    </tr>\n",
       "                \n",
       "                  <tr>\n",
       "                    <td>Sites</td>\n",
       "                      <td>1000</td>\n",
       "                      <td>24.4 KiB</td>\n",
       "                      <td style=\"text-align: center;\">\n",
       "                        \n",
       "                      </td>\n",
       "                    </tr>\n",
       "                \n",
       "                    </tbody>\n",
       "                  </table>\n",
       "                </div>\n",
       "              </div>\n",
       "            </div>\n",
       "            "
      ],
      "text/plain": [
       "<tskit.trees.TreeSequence at 0x15864de10>"
      ]
     },
     "execution_count": 21,
     "metadata": {},
     "output_type": "execute_result"
    }
   ],
   "source": [
    "mts"
   ]
  },
  {
   "cell_type": "code",
   "execution_count": 46,
   "metadata": {},
   "outputs": [
    {
     "data": {
      "text/plain": [
       "Admixture(time=21200.0, derived='merged', ancestral=['pop_0', 'pop_1', 'pop_2'], proportions=[0.33, 0.33, 0.34])"
      ]
     },
     "execution_count": 46,
     "metadata": {},
     "output_type": "execute_result"
    }
   ],
   "source": [
    "demography2 = msprime.Demography.isolated_model([N] * 3)\n",
    "demography2.add_population(name=\"merged\",initial_size=3*N)\n",
    "demography2.add_admixture(time=time_merge,derived=\"merged\", ancestral=[\"pop_0\",\"pop_1\",\"pop_2\"],proportions= [0.33,0.33,0.34])"
   ]
  },
  {
   "cell_type": "markdown",
   "metadata": {},
   "source": [
    "### Coding the merge as an Admixture event"
   ]
  },
  {
   "cell_type": "code",
   "execution_count": 20,
   "metadata": {},
   "outputs": [
    {
     "data": {
      "text/plain": [
       "SymmetricMigrationRateChange(time=200, populations=['A', 'B', 'C'], rate=0.00025)"
      ]
     },
     "execution_count": 20,
     "metadata": {},
     "output_type": "execute_result"
    }
   ],
   "source": [
    "N=1000\n",
    "time_merge=200\n",
    "demography = msprime.Demography()\n",
    "demography.add_population(name=\"A\",initial_size=N,initially_active=False,default_sampling_time=time_merge+1)\n",
    "demography.add_population(name=\"B\",initial_size=N,initially_active=False,default_sampling_time=time_merge+1)\n",
    "demography.add_population(name=\"C\",initial_size=N,initially_active=False,default_sampling_time=time_merge+1)\n",
    "demography.add_population(name=\"merged\",initial_size=3*N)\n",
    "demography.add_admixture(time=time_merge,derived=\"merged\", ancestral=[\"A\",\"B\",\"C\"],proportions= [ 1 / 3, 1 / 3 , 1 / 3])\n",
    "\n",
    "demography.add_symmetric_migration_rate_change(time=time_merge, populations=[\"A\", \"B\",\"C\"], rate=25e-5)\n"
   ]
  },
  {
   "cell_type": "code",
   "execution_count": 21,
   "metadata": {},
   "outputs": [
    {
     "data": {
      "image/png": "[encoded data removed]",
      "text/plain": [
       "<Figure size 432x288 with 1 Axes>"
      ]
     },
     "metadata": {
      "needs_background": "light"
     },
     "output_type": "display_data"
    }
   ],
   "source": [
    "graph = msprime.Demography.to_demes(demography)\n",
    "fig, ax = plt.subplots()  # use plt.rcParams[\"figure.figsize\"]\n",
    "demesdraw.tubes(graph, ax=ax, seed=1)\n",
    "plt.show()"
   ]
  },
  {
   "cell_type": "code",
   "execution_count": 27,
   "metadata": {},
   "outputs": [],
   "source": [
    "seqlen=1000\n",
    "ts_t0 = msprime.sim_ancestry(samples=[msprime.SampleSet(100,\"A\", time=time_merge+1),msprime.SampleSet(100,\"B\", time=time_merge+1),msprime.SampleSet(100,\"C\", time=time_merge+1)], sequence_length=seqlen, demography=demography, random_seed=12)\n",
    "ts_t1 = msprime.sim_ancestry(samples=[msprime.SampleSet(100,population=\"merged\", time=time_merge-1)],sequence_length=seqlen, demography=demography, random_seed=12)\n",
    "ts_t2 = msprime.sim_ancestry(samples=[msprime.SampleSet(100,population=\"merged\", time=time_merge-50)],sequence_length=seqlen, demography=demography, random_seed=12)\n",
    "ts_t3 = msprime.sim_ancestry(samples=[msprime.SampleSet(100,population=\"merged\", time=time_merge-100)],sequence_length=seqlen, demography=demography, random_seed=12)\n",
    "ts_tpresent = msprime.sim_ancestry(samples=[msprime.SampleSet(100,population=\"merged\", time=0)],sequence_length=seqlen, demography=demography, random_seed=12)\n"
   ]
  },
  {
   "cell_type": "markdown",
   "metadata": {},
   "source": [
    "### Coding the merge as a mass migration"
   ]
  },
  {
   "cell_type": "code",
   "execution_count": 144,
   "metadata": {},
   "outputs": [
    {
     "data": {
      "text/plain": [
       "MassMigration(time=200, source='B', dest='merged', proportion=1)"
      ]
     },
     "execution_count": 144,
     "metadata": {},
     "output_type": "execute_result"
    }
   ],
   "source": [
    "N=1000\n",
    "time_merge=200\n",
    "# time_merge=0\n",
    "demography = msprime.Demography()\n",
    "demography.add_population(name=\"A\",initial_size=N,initially_active=False,default_sampling_time=time_merge+1)\n",
    "demography.add_population(name=\"B\",initial_size=N,initially_active=False,default_sampling_time=time_merge+1)\n",
    "demography.add_population(name=\"C\",initial_size=N,initially_active=False,default_sampling_time=time_merge+1)\n",
    "demography.add_population(name=\"merged\",initial_size=10)\n",
    "demography.add_mass_migration(time=time_merge,source=\"A\",dest=\"merged\",proportion=1)\n",
    "demography.add_mass_migration(time=time_merge,source=\"B\",dest=\"merged\",proportion=1) "
   ]
  },
  {
   "cell_type": "code",
   "execution_count": 145,
   "metadata": {},
   "outputs": [
    {
     "ename": "ValueError",
     "evalue": "Events must be time-sorted. Please use demography.sort_events()if you add events out of order.",
     "output_type": "error",
     "traceback": [
      "\u001b[0;31m---------------------------------------------------------------------------\u001b[0m",
      "\u001b[0;31mValueError\u001b[0m                                Traceback (most recent call last)",
      "\u001b[1;32m/Users/qsv231/Library/CloudStorage/OneDrive-UNIVERSIDADNACIONALAUTÓNOMADEMÉXICO/McGill/Masters_McGill/Coalescent-Fragmentation/simulate.ipynb Cell 15'\u001b[0m in \u001b[0;36m<cell line: 1>\u001b[0;34m()\u001b[0m\n\u001b[0;32m----> <a href='vscode-notebook-cell:/Users/qsv231/Library/CloudStorage/OneDrive-UNIVERSIDADNACIONALAUT%C3%93NOMADEM%C3%89XICO/McGill/Masters_McGill/Coalescent-Fragmentation/simulate.ipynb#ch0000020?line=0'>1</a>\u001b[0m graph \u001b[39m=\u001b[39m msprime\u001b[39m.\u001b[39;49mDemography\u001b[39m.\u001b[39;49mto_demes(demography)\n\u001b[1;32m      <a href='vscode-notebook-cell:/Users/qsv231/Library/CloudStorage/OneDrive-UNIVERSIDADNACIONALAUT%C3%93NOMADEM%C3%89XICO/McGill/Masters_McGill/Coalescent-Fragmentation/simulate.ipynb#ch0000020?line=1'>2</a>\u001b[0m fig, ax \u001b[39m=\u001b[39m plt\u001b[39m.\u001b[39msubplots()  \u001b[39m# use plt.rcParams[\"figure.figsize\"]\u001b[39;00m\n\u001b[1;32m      <a href='vscode-notebook-cell:/Users/qsv231/Library/CloudStorage/OneDrive-UNIVERSIDADNACIONALAUT%C3%93NOMADEM%C3%89XICO/McGill/Masters_McGill/Coalescent-Fragmentation/simulate.ipynb#ch0000020?line=2'>3</a>\u001b[0m demesdraw\u001b[39m.\u001b[39mtubes(graph, ax\u001b[39m=\u001b[39max, seed\u001b[39m=\u001b[39m\u001b[39m1\u001b[39m)\n",
      "File \u001b[0;32m/opt/anaconda3/envs/demes/lib/python3.10/site-packages/msprime/demography.py:2609\u001b[0m, in \u001b[0;36mDemography.to_demes\u001b[0;34m(self)\u001b[0m\n\u001b[1;32m   <a href='file:///opt/anaconda3/envs/demes/lib/python3.10/site-packages/msprime/demography.py?line=2559'>2560</a>\u001b[0m \u001b[39mdef\u001b[39;00m \u001b[39mto_demes\u001b[39m(\u001b[39mself\u001b[39m) \u001b[39m-\u001b[39m\u001b[39m>\u001b[39m demes\u001b[39m.\u001b[39mGraph:\n\u001b[1;32m   <a href='file:///opt/anaconda3/envs/demes/lib/python3.10/site-packages/msprime/demography.py?line=2560'>2561</a>\u001b[0m     \u001b[39m\"\"\"\u001b[39;00m\n\u001b[1;32m   <a href='file:///opt/anaconda3/envs/demes/lib/python3.10/site-packages/msprime/demography.py?line=2561'>2562</a>\u001b[0m \u001b[39m    Creates a :class:`demes.Graph` object from the demography.\u001b[39;00m\n\u001b[1;32m   <a href='file:///opt/anaconda3/envs/demes/lib/python3.10/site-packages/msprime/demography.py?line=2562'>2563</a>\u001b[0m \u001b[39m    See the :ref:`sec_demography_importing_demes` section for details.\u001b[39;00m\n\u001b[0;32m   (...)\u001b[0m\n\u001b[1;32m   <a href='file:///opt/anaconda3/envs/demes/lib/python3.10/site-packages/msprime/demography.py?line=2606'>2607</a>\u001b[0m \u001b[39m    :rtype: demes.Graph\u001b[39;00m\n\u001b[1;32m   <a href='file:///opt/anaconda3/envs/demes/lib/python3.10/site-packages/msprime/demography.py?line=2607'>2608</a>\u001b[0m \u001b[39m    \"\"\"\u001b[39;00m\n\u001b[0;32m-> <a href='file:///opt/anaconda3/envs/demes/lib/python3.10/site-packages/msprime/demography.py?line=2608'>2609</a>\u001b[0m     dbg \u001b[39m=\u001b[39m \u001b[39mself\u001b[39;49m\u001b[39m.\u001b[39;49mdebug()\n\u001b[1;32m   <a href='file:///opt/anaconda3/envs/demes/lib/python3.10/site-packages/msprime/demography.py?line=2609'>2610</a>\u001b[0m     resolved \u001b[39m=\u001b[39m dbg\u001b[39m.\u001b[39mdemography\n\u001b[1;32m   <a href='file:///opt/anaconda3/envs/demes/lib/python3.10/site-packages/msprime/demography.py?line=2610'>2611</a>\u001b[0m     b \u001b[39m=\u001b[39m demes\u001b[39m.\u001b[39mBuilder()\n",
      "File \u001b[0;32m/opt/anaconda3/envs/demes/lib/python3.10/site-packages/msprime/demography.py:1202\u001b[0m, in \u001b[0;36mDemography.debug\u001b[0;34m(self)\u001b[0m\n\u001b[1;32m   <a href='file:///opt/anaconda3/envs/demes/lib/python3.10/site-packages/msprime/demography.py?line=1194'>1195</a>\u001b[0m \u001b[39mdef\u001b[39;00m \u001b[39mdebug\u001b[39m(\u001b[39mself\u001b[39m):\n\u001b[1;32m   <a href='file:///opt/anaconda3/envs/demes/lib/python3.10/site-packages/msprime/demography.py?line=1195'>1196</a>\u001b[0m     \u001b[39m\"\"\"\u001b[39;00m\n\u001b[1;32m   <a href='file:///opt/anaconda3/envs/demes/lib/python3.10/site-packages/msprime/demography.py?line=1196'>1197</a>\u001b[0m \u001b[39m    Returns a :class:`.DemographyDebugger` instance for this demography.\u001b[39;00m\n\u001b[1;32m   <a href='file:///opt/anaconda3/envs/demes/lib/python3.10/site-packages/msprime/demography.py?line=1197'>1198</a>\u001b[0m \n\u001b[1;32m   <a href='file:///opt/anaconda3/envs/demes/lib/python3.10/site-packages/msprime/demography.py?line=1198'>1199</a>\u001b[0m \u001b[39m    :return: A DemographyDebugger object for this demography.\u001b[39;00m\n\u001b[1;32m   <a href='file:///opt/anaconda3/envs/demes/lib/python3.10/site-packages/msprime/demography.py?line=1199'>1200</a>\u001b[0m \u001b[39m    :rtype: msprime.DemographyDebugger\u001b[39;00m\n\u001b[1;32m   <a href='file:///opt/anaconda3/envs/demes/lib/python3.10/site-packages/msprime/demography.py?line=1200'>1201</a>\u001b[0m \u001b[39m    \"\"\"\u001b[39;00m\n\u001b[0;32m-> <a href='file:///opt/anaconda3/envs/demes/lib/python3.10/site-packages/msprime/demography.py?line=1201'>1202</a>\u001b[0m     \u001b[39mreturn\u001b[39;00m DemographyDebugger(demography\u001b[39m=\u001b[39;49m\u001b[39mself\u001b[39;49m)\n",
      "File \u001b[0;32m/opt/anaconda3/envs/demes/lib/python3.10/site-packages/msprime/demography.py:3683\u001b[0m, in \u001b[0;36mDemographyDebugger.__init__\u001b[0;34m(self, Ne, population_configurations, migration_matrix, demographic_events, model, demography)\u001b[0m\n\u001b[1;32m   <a href='file:///opt/anaconda3/envs/demes/lib/python3.10/site-packages/msprime/demography.py?line=3673'>3674</a>\u001b[0m \u001b[39mif\u001b[39;00m demography \u001b[39mis\u001b[39;00m \u001b[39mNone\u001b[39;00m:\n\u001b[1;32m   <a href='file:///opt/anaconda3/envs/demes/lib/python3.10/site-packages/msprime/demography.py?line=3674'>3675</a>\u001b[0m     \u001b[39m# Support the pre-1.0 syntax\u001b[39;00m\n\u001b[1;32m   <a href='file:///opt/anaconda3/envs/demes/lib/python3.10/site-packages/msprime/demography.py?line=3675'>3676</a>\u001b[0m     demography \u001b[39m=\u001b[39m Demography\u001b[39m.\u001b[39mfrom_old_style(\n\u001b[1;32m   <a href='file:///opt/anaconda3/envs/demes/lib/python3.10/site-packages/msprime/demography.py?line=3676'>3677</a>\u001b[0m         population_configurations,\n\u001b[1;32m   <a href='file:///opt/anaconda3/envs/demes/lib/python3.10/site-packages/msprime/demography.py?line=3677'>3678</a>\u001b[0m         migration_matrix\u001b[39m=\u001b[39mmigration_matrix,\n\u001b[0;32m   (...)\u001b[0m\n\u001b[1;32m   <a href='file:///opt/anaconda3/envs/demes/lib/python3.10/site-packages/msprime/demography.py?line=3680'>3681</a>\u001b[0m         ignore_sample_size\u001b[39m=\u001b[39m\u001b[39mTrue\u001b[39;00m,\n\u001b[1;32m   <a href='file:///opt/anaconda3/envs/demes/lib/python3.10/site-packages/msprime/demography.py?line=3681'>3682</a>\u001b[0m     )\n\u001b[0;32m-> <a href='file:///opt/anaconda3/envs/demes/lib/python3.10/site-packages/msprime/demography.py?line=3682'>3683</a>\u001b[0m \u001b[39mself\u001b[39m\u001b[39m.\u001b[39mdemography \u001b[39m=\u001b[39m demography\u001b[39m.\u001b[39;49mvalidate()\n\u001b[1;32m   <a href='file:///opt/anaconda3/envs/demes/lib/python3.10/site-packages/msprime/demography.py?line=3683'>3684</a>\u001b[0m \u001b[39mself\u001b[39m\u001b[39m.\u001b[39mnum_populations \u001b[39m=\u001b[39m demography\u001b[39m.\u001b[39mnum_populations\n\u001b[1;32m   <a href='file:///opt/anaconda3/envs/demes/lib/python3.10/site-packages/msprime/demography.py?line=3684'>3685</a>\u001b[0m \u001b[39mself\u001b[39m\u001b[39m.\u001b[39m_make_epochs()\n",
      "File \u001b[0;32m/opt/anaconda3/envs/demes/lib/python3.10/site-packages/msprime/demography.py:1021\u001b[0m, in \u001b[0;36mDemography.validate\u001b[0;34m(self)\u001b[0m\n\u001b[1;32m   <a href='file:///opt/anaconda3/envs/demes/lib/python3.10/site-packages/msprime/demography.py?line=1018'>1019</a>\u001b[0m     \u001b[39mif\u001b[39;00m last_event \u001b[39mis\u001b[39;00m \u001b[39mnot\u001b[39;00m \u001b[39mNone\u001b[39;00m:\n\u001b[1;32m   <a href='file:///opt/anaconda3/envs/demes/lib/python3.10/site-packages/msprime/demography.py?line=1019'>1020</a>\u001b[0m         \u001b[39mif\u001b[39;00m last_event\u001b[39m.\u001b[39mtime \u001b[39m>\u001b[39m event\u001b[39m.\u001b[39mtime:\n\u001b[0;32m-> <a href='file:///opt/anaconda3/envs/demes/lib/python3.10/site-packages/msprime/demography.py?line=1020'>1021</a>\u001b[0m             \u001b[39mraise\u001b[39;00m \u001b[39mValueError\u001b[39;00m(\n\u001b[1;32m   <a href='file:///opt/anaconda3/envs/demes/lib/python3.10/site-packages/msprime/demography.py?line=1021'>1022</a>\u001b[0m                 \u001b[39m\"\u001b[39m\u001b[39mEvents must be time-sorted. Please use demography.sort_events()\u001b[39m\u001b[39m\"\u001b[39m\n\u001b[1;32m   <a href='file:///opt/anaconda3/envs/demes/lib/python3.10/site-packages/msprime/demography.py?line=1022'>1023</a>\u001b[0m                 \u001b[39m\"\u001b[39m\u001b[39mif you add events out of order.\u001b[39m\u001b[39m\"\u001b[39m\n\u001b[1;32m   <a href='file:///opt/anaconda3/envs/demes/lib/python3.10/site-packages/msprime/demography.py?line=1023'>1024</a>\u001b[0m             )\n\u001b[1;32m   <a href='file:///opt/anaconda3/envs/demes/lib/python3.10/site-packages/msprime/demography.py?line=1024'>1025</a>\u001b[0m     last_event \u001b[39m=\u001b[39m event\n\u001b[1;32m   <a href='file:///opt/anaconda3/envs/demes/lib/python3.10/site-packages/msprime/demography.py?line=1025'>1026</a>\u001b[0m resolved \u001b[39m=\u001b[39m copy\u001b[39m.\u001b[39mdeepcopy(\u001b[39mself\u001b[39m)\n",
      "\u001b[0;31mValueError\u001b[0m: Events must be time-sorted. Please use demography.sort_events()if you add events out of order."
     ]
    }
   ],
   "source": [
    "graph = msprime.Demography.to_demes(demography)\n",
    "fig, ax = plt.subplots()  # use plt.rcParams[\"figure.figsize\"]\n",
    "demesdraw.tubes(graph, ax=ax, seed=1)\n",
    "plt.show()"
   ]
  },
  {
   "cell_type": "markdown",
   "metadata": {},
   "source": [
    "### Simulating only the ancestral populations and trying to sample"
   ]
  },
  {
   "cell_type": "code",
   "execution_count": 116,
   "metadata": {},
   "outputs": [
    {
     "data": {
      "text/plain": [
       "Population(initial_size=1000, growth_rate=0, name='C', description='', extra_metadata={}, default_sampling_time=None, initially_active=None, id=2)"
      ]
     },
     "execution_count": 116,
     "metadata": {},
     "output_type": "execute_result"
    }
   ],
   "source": [
    "N=1000\n",
    "demography = msprime.Demography()\n",
    "demography.add_population(name=\"A\",initial_size=N,)\n",
    "demography.add_population(name=\"B\",initial_size=N)\n",
    "demography.add_population(name=\"C\",initial_size=N)"
   ]
  },
  {
   "cell_type": "code",
   "execution_count": 117,
   "metadata": {},
   "outputs": [
    {
     "data": {
      "image/png": "[encoded data removed]",
      "text/plain": [
       "<Figure size 432x288 with 1 Axes>"
      ]
     },
     "metadata": {
      "needs_background": "light"
     },
     "output_type": "display_data"
    }
   ],
   "source": [
    "graph = msprime.Demography.to_demes(demography)\n",
    "fig, ax = plt.subplots()  # use plt.rcParams[\"figure.figsize\"]\n",
    "demesdraw.tubes(graph, ax=ax, seed=1)\n",
    "plt.show()"
   ]
  },
  {
   "cell_type": "code",
   "execution_count": 122,
   "metadata": {},
   "outputs": [],
   "source": [
    "seqlen=1000\n",
    "#ts_t0 = msprime.sim_ancestry(samples=[msprime.SampleSet(10,\"A\", time=time_merge+1),msprime.SampleSet(10,\"B\", time=time_merge+1),msprime.SampleSet(10,\"C\", time=time_merge+1)], sequence_length=seqlen, demography=demography, random_seed=12)\n",
    "ts_t1 = msprime.sim_ancestry(samples={\"A\":10},sequence_length=seqlen, demography=demography, random_seed=12)"
   ]
  },
  {
   "cell_type": "code",
   "execution_count": null,
   "metadata": {},
   "outputs": [],
   "source": []
  }
 ],
 "metadata": {
  "interpreter": {
   "hash": "b063fe30441e78f63f9311f75104ce90b047fc587b45a2068f4c08d1da0ad08a"
  },
  "kernelspec": {
   "display_name": "Python 3.10.2 ('demes')",
   "language": "python",
   "name": "python3"
  },
  "language_info": {
   "codemirror_mode": {
    "name": "ipython",
    "version": 3
   },
   "file_extension": ".py",
   "mimetype": "text/x-python",
   "name": "python",
   "nbconvert_exporter": "python",
   "pygments_lexer": "ipython3",
   "version": "3.10.2"
  },
  "orig_nbformat": 4
 },
 "nbformat": 4,
 "nbformat_minor": 2
}
