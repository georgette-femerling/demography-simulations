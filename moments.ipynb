{
 "cells": [
  {
   "cell_type": "code",
   "execution_count": 1,
   "metadata": {},
   "outputs": [],
   "source": [
    "# Import libraries\n",
    "import moments, moments.LD\n",
    "import pandas as pd, numpy as np\n",
    "import demes, demesdraw, matplotlib.pylab as plt"
   ]
  },
  {
   "cell_type": "code",
   "execution_count": 2,
   "metadata": {},
   "outputs": [],
   "source": [
    "# Define Functions\n",
    "def sample_timepoints(deme, time_points = 3, size = 100):\n",
    "     sample_demes = list(np.repeat(np.array(deme),time_points))\n",
    "     times = np.linspace(graph[deme].end_time+1,graph[deme].start_time-1,time_points,dtype=int) if graph[deme].start_time != float('inf') else np.linspace(graph[deme].end_time+1,graph[deme].end_time+4000,time_points,dtype=int)\n",
    "     sizes = list(np.repeat(np.array(size),time_points))\n",
    "     return sample_demes,times,sizes\n",
    "\n",
    "def Dstat(graph,sampled_demes,sample_times,rhos):\n",
    "     y = moments.Demes.LD(graph, sampled_demes=sampled_demes, sample_times=sample_times,rho = rhos)\n",
    "     sigma = moments.LD.Inference.sigmaD2(y)\n",
    "     return sigma\n",
    "\n",
    "def plot_D(sigma,rhos,sample_times,subfig,ancestral):\n",
    "     (ax1, ax2, ax3) = subfig.subplots(nrows=1, ncols=3)\n",
    "     #fig, (ax1, ax2) = plt.subplots(1, 2, figsize=(10, 4))\n",
    "\n",
    "     ax1.plot(rhos, sigma.LD()[:, 0],label=str(\"tp_\"+str(sample_times[0])))\n",
    "     ax1.plot(rhos, sigma.LD()[:, 3],label=str(\"tp_\"+str(sample_times[1])))\n",
    "     ax1.plot(rhos, sigma.LD()[:, 5],label=str(\"tp_\"+str(sample_times[2])))\n",
    "     ax1.plot(rhos, ancestral.LD()[:, 0],'--',label=\"Ancestral\")\n",
    "\n",
    "     ax2.plot(rhos, sigma.LD()[:, 6],label=str(sigma.names()[0][6])+\"_tp_\"+str(sample_times[0]))\n",
    "     ax2.plot(rhos, sigma.LD()[:, 15],label=str(sigma.names()[0][15])+\"_tp_\"+str(sample_times[1]))\n",
    "     ax2.plot(rhos, sigma.LD()[:, 23],label=str(sigma.names()[0][23])+\"_tp_\"+str(sample_times[2]))\n",
    "     ax2.plot(rhos, ancestral.LD()[:, 1],'--',label=\"Ancestral\")\n",
    "\n",
    "     ax3.plot(rhos, sigma.LD()[:, 24],label=str(sigma.names()[0][24])+\"_tp_\"+str(sample_times[0]))\n",
    "     ax3.plot(rhos, sigma.LD()[:, 39],label=str(sigma.names()[0][39])+\"_tp_\"+str(sample_times[1]))\n",
    "     ax3.plot(rhos, sigma.LD()[:, 44],label=str(sigma.names()[0][44])+\"_tp_\"+str(sample_times[2]))\n",
    "     ax3.plot(rhos, ancestral.LD()[:, 2],'--',label=\"Ancestral\")\n",
    "\n",
    "     ax1.set_yscale(\"log\")\n",
    "     ax2.set_yscale(\"log\")\n",
    "     ax3.set_yscale(\"log\")\n",
    "     ax1.set_xscale(\"log\")\n",
    "     ax2.set_xscale(\"log\")\n",
    "     ax3.set_xscale(\"log\")\n",
    "     ax1.set_xlabel(r\"$\\rho$\")\n",
    "     ax2.set_xlabel(r\"$\\rho$\")\n",
    "     ax3.set_xlabel(r\"$\\rho$\")\n",
    "     ax1.set_ylabel(r\"$\\sigma_d^2$\")\n",
    "     ax2.set_ylabel(r\"$\\sigma_{Dz}$\")\n",
    "     ax3.set_ylabel(r\"Pi2\")\n",
    "     ax1.legend()\n",
    "     #ax2.legend()\n",
    "     ax3.legend()\n"
   ]
  },
  {
   "cell_type": "code",
   "execution_count": 3,
   "metadata": {},
   "outputs": [],
   "source": [
    "# Specify DEMES Model parameters\n",
    "N = 10e3 # Ancestral pop will have an N of N*populations\n",
    "splits = 2 # How many split events after merging\n",
    "populations = 3 # splits into populations \n",
    "proportions = [0.80,0.1,0.10,0.5,0.3,0.2] # proportions of N for new pops\n",
    "assert len(proportions) == splits*populations\n",
    "#proportions = 0\n",
    "time_period = 0.1*N\n",
    "\n",
    "events = splits*2+1\n",
    "current_time = events*time_period\n",
    "\n",
    "# set up recombination rates\n",
    "rhos = np.logspace(-2, 2, 21)"
   ]
  },
  {
   "cell_type": "markdown",
   "metadata": {},
   "source": [
    "### Cake model, with migration"
   ]
  },
  {
   "cell_type": "code",
   "execution_count": 4,
   "metadata": {},
   "outputs": [
    {
     "name": "stdout",
     "output_type": "stream",
     "text": [
      "[0.1, 0.1, 0.5, 0.3, 0.2]\n",
      "[0.1, 0.5, 0.3, 0.2]\n",
      "[0.5, 0.3, 0.2]\n",
      "[0.3, 0.2]\n",
      "[0.2]\n",
      "[]\n"
     ]
    },
    {
     "data": {
      "text/plain": [
       "{'pulses': [],\n",
       " 'splits': [Split(parent='Ancestral', children=['Split_01', 'Split_02', 'Split_00'], time=4000.0),\n",
       "  Split(parent='Merge_1', children=['Split_22', 'Split_20', 'Split_21'], time=2000.0)],\n",
       " 'branches': [],\n",
       " 'mergers': [Merge(parents=['Split_00', 'Split_01', 'Split_02'], proportions=[0.3333333333333333, 0.3333333333333333, 0.3333333333333333], child='Merge_1', time=3000.0),\n",
       "  Merge(parents=['Split_20', 'Split_21', 'Split_22'], proportions=[0.3333333333333333, 0.3333333333333333, 0.3333333333333333], child='Merge_3', time=1000.0)],\n",
       " 'admixtures': []}"
      ]
     },
     "execution_count": 4,
     "metadata": {},
     "output_type": "execute_result"
    }
   ],
   "source": [
    "\n",
    "# Create Builder\n",
    "m = demes.Builder()\n",
    "\n",
    "# Add first Ancestor\n",
    "m.add_deme(\"Ancestral\",epochs=[dict(start_size=populations*N, end_time=current_time-time_period)])\n",
    "current_time = current_time-time_period\n",
    "\n",
    "split = 1 # Logical variable to know whether or not a split should be modeled\n",
    "previous = [\"Ancestral\"]\n",
    "\n",
    "size_proportions = proportions.copy() if proportions else list(np.repeat(np.array([1/populations]),populations))\n",
    "\n",
    "event = 0 \n",
    "split_i = 0\n",
    "while current_time > 0:\n",
    "    if split:\n",
    "        pops = []\n",
    "        for pop in np.arange(populations):\n",
    "            name=\"Split_\" + str(event) + str(pop)\n",
    "            # proportions=[size_proportions[0]]\n",
    "            m.add_deme(name,ancestors=previous,start_time=current_time,epochs=[dict(start_size=populations*N*size_proportions[0],end_time=current_time-time_period)])\n",
    "            pops.append(name)\n",
    "            size_proportions.pop(0)\n",
    "            print(size_proportions)\n",
    "        previous = pops\n",
    "        # m.add_migration(demes = pops, rate = 1e-4)\n",
    "        current_time = current_time-time_period\n",
    "        split = 0\n",
    "    else: \n",
    "        assert len(previous) == len(list(np.repeat(np.array([1/populations]),populations)))\n",
    "        name=\"Merge_\" + str(event)\n",
    "        m.add_deme(name,ancestors=previous,proportions=list(np.repeat(np.array([1/populations]),populations)),start_time=current_time,epochs=[dict(start_size=populations*N, end_time=current_time-time_period)])\n",
    "        previous = [name]\n",
    "        current_time = current_time-time_period\n",
    "        split = 1\n",
    "    event = event + 1 \n",
    "\n",
    "# Resolver model\n",
    "graph = m.resolve()\n",
    "\n",
    "# Check demographic events\n",
    "graph.discrete_demographic_events()"
   ]
  },
  {
   "cell_type": "code",
   "execution_count": 5,
   "metadata": {},
   "outputs": [
    {
     "data": {
      "text/plain": [
       "<AxesSubplot:ylabel='time ago (generations)'>"
      ]
     },
     "execution_count": 5,
     "metadata": {},
     "output_type": "execute_result"
    },
    {
     "name": "stderr",
     "output_type": "stream",
     "text": [
      "WARNING:matplotlib.font_manager:findfont: Font family ['sans-serif'] not found. Falling back to DejaVu Sans.\n",
      "WARNING:matplotlib.font_manager:findfont: Generic family 'sans-serif' not found because none of the following families were found: Helvetica\n",
      "WARNING:matplotlib.font_manager:findfont: Font family ['sans-serif'] not found. Falling back to DejaVu Sans.\n",
      "WARNING:matplotlib.font_manager:findfont: Generic family 'sans-serif' not found because none of the following families were found: Helvetica\n"
     ]
    },
    {
     "data": {
      "image/png": "[encoded data removed]",
      "text/plain": [
       "<Figure size 512x288 with 1 Axes>"
      ]
     },
     "metadata": {
      "needs_background": "light"
     },
     "output_type": "display_data"
    }
   ],
   "source": [
    "# 1. Specify model - if we are reading from a yaml file\n",
    "#model = \"/home/gfemer/storage/demography-simulations/IM_to_one.yaml\"\n",
    "#model = \"/home/gfemer/storage/demography-simulations/example_demes.yaml\"\n",
    "\n",
    "# 2. Visualize Model with demes.draw\n",
    "#graph = demes.load(model)\n",
    "demesdraw.tubes(graph, log_time=False, num_lines_per_migration=3)"
   ]
  },
  {
   "cell_type": "code",
   "execution_count": 6,
   "metadata": {},
   "outputs": [],
   "source": [
    "# Ancestral stats\n",
    "sampled_demes, sample_times, sample_sizes = sample_timepoints('Ancestral',size = 100,time_points = 1)\n",
    "Ds_ancestral = Dstat(graph, sampled_demes, sample_times,rhos)"
   ]
  },
  {
   "cell_type": "markdown",
   "metadata": {},
   "source": [
    "### Same model, no migration"
   ]
  },
  {
   "cell_type": "code",
   "execution_count": 7,
   "metadata": {},
   "outputs": [
    {
     "name": "stdout",
     "output_type": "stream",
     "text": [
      "[8000 6000 4001]\n"
     ]
    },
    {
     "ename": "ValueError",
     "evalue": "deme[1] Ancestral_sampled_8000_0: ancestor deme 'Ancestral' not found. Note: ancestor demes must be specified before their children.",
     "output_type": "error",
     "traceback": [
      "\u001b[0;31m---------------------------------------------------------------------------\u001b[0m",
      "\u001b[0;31mValueError\u001b[0m                                Traceback (most recent call last)",
      "\u001b[1;32m/home/gfemer/projects/ctb-sgravel/gfemer/demography-simulations/moments.ipynb Cell 9\u001b[0m in \u001b[0;36m<cell line: 14>\u001b[0;34m()\u001b[0m\n\u001b[1;32m     <a href='vscode-notebook-cell://ssh-remote%2Bnarval.computecanada.ca/home/gfemer/projects/ctb-sgravel/gfemer/demography-simulations/moments.ipynb#ch0000008vscode-remote?line=16'>17</a>\u001b[0m         sampled_demes, sample_times, sample_sizes \u001b[39m=\u001b[39m sample_timepoints(deme,size \u001b[39m=\u001b[39m \u001b[39m100\u001b[39m,time_points \u001b[39m=\u001b[39m \u001b[39m3\u001b[39m)\n\u001b[1;32m     <a href='vscode-notebook-cell://ssh-remote%2Bnarval.computecanada.ca/home/gfemer/projects/ctb-sgravel/gfemer/demography-simulations/moments.ipynb#ch0000008vscode-remote?line=17'>18</a>\u001b[0m         \u001b[39mprint\u001b[39m(np\u001b[39m.\u001b[39mflip(sample_times))\n\u001b[0;32m---> <a href='vscode-notebook-cell://ssh-remote%2Bnarval.computecanada.ca/home/gfemer/projects/ctb-sgravel/gfemer/demography-simulations/moments.ipynb#ch0000008vscode-remote?line=18'>19</a>\u001b[0m         Ds \u001b[39m=\u001b[39m Dstat(graph, sampled_demes, np\u001b[39m.\u001b[39;49mflip(sample_times),rhos)\n\u001b[1;32m     <a href='vscode-notebook-cell://ssh-remote%2Bnarval.computecanada.ca/home/gfemer/projects/ctb-sgravel/gfemer/demography-simulations/moments.ipynb#ch0000008vscode-remote?line=19'>20</a>\u001b[0m         plot_D(Ds,rhos,sample_times,subfig,Ds_ancestral)\n\u001b[1;32m     <a href='vscode-notebook-cell://ssh-remote%2Bnarval.computecanada.ca/home/gfemer/projects/ctb-sgravel/gfemer/demography-simulations/moments.ipynb#ch0000008vscode-remote?line=21'>22</a>\u001b[0m \u001b[39m#plt.show()\u001b[39;00m\n",
      "\u001b[1;32m/home/gfemer/projects/ctb-sgravel/gfemer/demography-simulations/moments.ipynb Cell 9\u001b[0m in \u001b[0;36mDstat\u001b[0;34m(graph, sampled_demes, sample_times, rhos)\u001b[0m\n\u001b[1;32m      <a href='vscode-notebook-cell://ssh-remote%2Bnarval.computecanada.ca/home/gfemer/projects/ctb-sgravel/gfemer/demography-simulations/moments.ipynb#ch0000008vscode-remote?line=7'>8</a>\u001b[0m \u001b[39mdef\u001b[39;00m \u001b[39mDstat\u001b[39m(graph,sampled_demes,sample_times,rhos):\n\u001b[0;32m----> <a href='vscode-notebook-cell://ssh-remote%2Bnarval.computecanada.ca/home/gfemer/projects/ctb-sgravel/gfemer/demography-simulations/moments.ipynb#ch0000008vscode-remote?line=8'>9</a>\u001b[0m      y \u001b[39m=\u001b[39m moments\u001b[39m.\u001b[39;49mDemes\u001b[39m.\u001b[39;49mLD(graph, sampled_demes\u001b[39m=\u001b[39;49msampled_demes, sample_times\u001b[39m=\u001b[39;49msample_times,rho \u001b[39m=\u001b[39;49m rhos)\n\u001b[1;32m     <a href='vscode-notebook-cell://ssh-remote%2Bnarval.computecanada.ca/home/gfemer/projects/ctb-sgravel/gfemer/demography-simulations/moments.ipynb#ch0000008vscode-remote?line=9'>10</a>\u001b[0m      sigma \u001b[39m=\u001b[39m moments\u001b[39m.\u001b[39mLD\u001b[39m.\u001b[39mInference\u001b[39m.\u001b[39msigmaD2(y)\n\u001b[1;32m     <a href='vscode-notebook-cell://ssh-remote%2Bnarval.computecanada.ca/home/gfemer/projects/ctb-sgravel/gfemer/demography-simulations/moments.ipynb#ch0000008vscode-remote?line=10'>11</a>\u001b[0m      \u001b[39mreturn\u001b[39;00m sigma\n",
      "File \u001b[0;32m~/projects/ctb-sgravel/python_environments/moments/lib/python3.8/site-packages/moments/Demes/Demes.py:281\u001b[0m, in \u001b[0;36mLD\u001b[0;34m(g, sampled_demes, sample_times, rho, theta, r, u, Ne)\u001b[0m\n\u001b[1;32m    278\u001b[0m \u001b[39m# for any ancient samples, we need to add frozen branches\u001b[39;00m\n\u001b[1;32m    279\u001b[0m \u001b[39m# with this, all \"sample times\" are at time 0, and ancient sampled demes are frozen\u001b[39;00m\n\u001b[1;32m    280\u001b[0m \u001b[39mif\u001b[39;00m np\u001b[39m.\u001b[39many(np\u001b[39m.\u001b[39marray(deme_sample_times) \u001b[39m!=\u001b[39m \u001b[39m0\u001b[39m):\n\u001b[0;32m--> 281\u001b[0m     g, sampled_pops, list_of_frozen_demes \u001b[39m=\u001b[39m _augment_with_ancient_samples(\n\u001b[1;32m    282\u001b[0m         g, sampled_pops, deme_sample_times\n\u001b[1;32m    283\u001b[0m     )\n\u001b[1;32m    284\u001b[0m     deme_sample_times \u001b[39m=\u001b[39m [\u001b[39m0\u001b[39m \u001b[39mfor\u001b[39;00m _ \u001b[39min\u001b[39;00m deme_sample_times]\n\u001b[1;32m    285\u001b[0m \u001b[39melse\u001b[39;00m:\n",
      "File \u001b[0;32m~/projects/ctb-sgravel/python_environments/moments/lib/python3.8/site-packages/moments/Demes/Demes.py:435\u001b[0m, in \u001b[0;36m_augment_with_ancient_samples\u001b[0;34m(g, sampled_demes, sample_times)\u001b[0m\n\u001b[1;32m    433\u001b[0m                         p[\u001b[39m\"\u001b[39m\u001b[39mdest\u001b[39m\u001b[39m\"\u001b[39m] \u001b[39m=\u001b[39m sd_frozen\n\u001b[1;32m    434\u001b[0m                     b\u001b[39m.\u001b[39mdata[\u001b[39m\"\u001b[39m\u001b[39mpulses\u001b[39m\u001b[39m\"\u001b[39m][ii] \u001b[39m=\u001b[39m p\n\u001b[0;32m--> 435\u001b[0m g_new \u001b[39m=\u001b[39m b\u001b[39m.\u001b[39;49mresolve()\n\u001b[1;32m    436\u001b[0m \u001b[39mreturn\u001b[39;00m g_new, sampled_demes, frozen_demes\n",
      "File \u001b[0;32m~/projects/ctb-sgravel/python_environments/moments/lib/python3.8/site-packages/demes/demes.py:2610\u001b[0m, in \u001b[0;36mBuilder.resolve\u001b[0;34m(self)\u001b[0m\n\u001b[1;32m   2603\u001b[0m \u001b[39mdef\u001b[39;00m \u001b[39mresolve\u001b[39m(\u001b[39mself\u001b[39m):\n\u001b[1;32m   2604\u001b[0m     \u001b[39m\"\"\"\u001b[39;00m\n\u001b[1;32m   2605\u001b[0m \u001b[39m    Resolve the data dictionary into a Graph.\u001b[39;00m\n\u001b[1;32m   2606\u001b[0m \n\u001b[1;32m   2607\u001b[0m \u001b[39m    :return: The fully-resolved Graph.\u001b[39;00m\n\u001b[1;32m   2608\u001b[0m \u001b[39m    :rtype: Graph\u001b[39;00m\n\u001b[1;32m   2609\u001b[0m \u001b[39m    \"\"\"\u001b[39;00m\n\u001b[0;32m-> 2610\u001b[0m     \u001b[39mreturn\u001b[39;00m Graph\u001b[39m.\u001b[39;49mfromdict(\u001b[39mself\u001b[39;49m\u001b[39m.\u001b[39;49mdata)\n",
      "File \u001b[0;32m~/projects/ctb-sgravel/python_environments/moments/lib/python3.8/site-packages/demes/demes.py:2113\u001b[0m, in \u001b[0;36mGraph.fromdict\u001b[0;34m(cls, data)\u001b[0m\n\u001b[1;32m   2108\u001b[0m check_allowed(\n\u001b[1;32m   2109\u001b[0m     deme_data, allowed_fields_deme_inner, \u001b[39mf\u001b[39m\u001b[39m\"\u001b[39m\u001b[39mdemes[\u001b[39m\u001b[39m{\u001b[39;00mi\u001b[39m}\u001b[39;00m\u001b[39m] \u001b[39m\u001b[39m{\u001b[39;00mdeme_name\u001b[39m}\u001b[39;00m\u001b[39m\"\u001b[39m\n\u001b[1;32m   2110\u001b[0m )\n\u001b[1;32m   2111\u001b[0m insert_defaults(deme_data, deme_defaults)\n\u001b[0;32m-> 2113\u001b[0m deme \u001b[39m=\u001b[39m graph\u001b[39m.\u001b[39;49m_add_deme(\n\u001b[1;32m   2114\u001b[0m     name\u001b[39m=\u001b[39;49mdeme_name,\n\u001b[1;32m   2115\u001b[0m     description\u001b[39m=\u001b[39;49mdeme_data\u001b[39m.\u001b[39;49mpop(\u001b[39m\"\u001b[39;49m\u001b[39mdescription\u001b[39;49m\u001b[39m\"\u001b[39;49m, \u001b[39m\"\u001b[39;49m\u001b[39m\"\u001b[39;49m),\n\u001b[1;32m   2116\u001b[0m     start_time\u001b[39m=\u001b[39;49mdeme_data\u001b[39m.\u001b[39;49mpop(\u001b[39m\"\u001b[39;49m\u001b[39mstart_time\u001b[39;49m\u001b[39m\"\u001b[39;49m, \u001b[39mNone\u001b[39;49;00m),\n\u001b[1;32m   2117\u001b[0m     ancestors\u001b[39m=\u001b[39;49mdeme_data\u001b[39m.\u001b[39;49mpop(\u001b[39m\"\u001b[39;49m\u001b[39mancestors\u001b[39;49m\u001b[39m\"\u001b[39;49m, \u001b[39mNone\u001b[39;49;00m),\n\u001b[1;32m   2118\u001b[0m     proportions\u001b[39m=\u001b[39;49mdeme_data\u001b[39m.\u001b[39;49mpop(\u001b[39m\"\u001b[39;49m\u001b[39mproportions\u001b[39;49m\u001b[39m\"\u001b[39;49m, \u001b[39mNone\u001b[39;49;00m),\n\u001b[1;32m   2119\u001b[0m )\n\u001b[1;32m   2121\u001b[0m local_defaults \u001b[39m=\u001b[39m pop_object(\n\u001b[1;32m   2122\u001b[0m     deme_data, \u001b[39m\"\u001b[39m\u001b[39mdefaults\u001b[39m\u001b[39m\"\u001b[39m, {}, scope\u001b[39m=\u001b[39m\u001b[39mf\u001b[39m\u001b[39m\"\u001b[39m\u001b[39mdemes[\u001b[39m\u001b[39m{\u001b[39;00mi\u001b[39m}\u001b[39;00m\u001b[39m] \u001b[39m\u001b[39m{\u001b[39;00mdeme\u001b[39m.\u001b[39mname\u001b[39m}\u001b[39;00m\u001b[39m\"\u001b[39m\n\u001b[1;32m   2123\u001b[0m )\n\u001b[1;32m   2124\u001b[0m check_allowed(\n\u001b[1;32m   2125\u001b[0m     local_defaults, [\u001b[39m\"\u001b[39m\u001b[39mepoch\u001b[39m\u001b[39m\"\u001b[39m], \u001b[39mf\u001b[39m\u001b[39m\"\u001b[39m\u001b[39mdemes[\u001b[39m\u001b[39m{\u001b[39;00mi\u001b[39m}\u001b[39;00m\u001b[39m] \u001b[39m\u001b[39m{\u001b[39;00mdeme\u001b[39m.\u001b[39mname\u001b[39m}\u001b[39;00m\u001b[39m: defaults\u001b[39m\u001b[39m\"\u001b[39m\n\u001b[1;32m   2126\u001b[0m )\n",
      "File \u001b[0;32m~/projects/ctb-sgravel/python_environments/moments/lib/python3.8/site-packages/demes/demes.py:1487\u001b[0m, in \u001b[0;36mGraph._add_deme\u001b[0;34m(self, name, description, ancestors, proportions, start_time)\u001b[0m\n\u001b[1;32m   1485\u001b[0m \u001b[39mfor\u001b[39;00m ancestor \u001b[39min\u001b[39;00m ancestors:\n\u001b[1;32m   1486\u001b[0m     \u001b[39mif\u001b[39;00m ancestor \u001b[39mnot\u001b[39;00m \u001b[39min\u001b[39;00m \u001b[39mself\u001b[39m:\n\u001b[0;32m-> 1487\u001b[0m         \u001b[39mraise\u001b[39;00m \u001b[39mValueError\u001b[39;00m(\n\u001b[1;32m   1488\u001b[0m             \u001b[39mf\u001b[39m\u001b[39m\"\u001b[39m\u001b[39mdeme[\u001b[39m\u001b[39m{\u001b[39;00m\u001b[39mlen\u001b[39m(\u001b[39mself\u001b[39m\u001b[39m.\u001b[39mdemes)\u001b[39m}\u001b[39;00m\u001b[39m] \u001b[39m\u001b[39m{\u001b[39;00mname\u001b[39m}\u001b[39;00m\u001b[39m: ancestor deme \u001b[39m\u001b[39m'\u001b[39m\u001b[39m{\u001b[39;00mancestor\u001b[39m}\u001b[39;00m\u001b[39m'\u001b[39m\u001b[39m \u001b[39m\u001b[39m\"\u001b[39m\n\u001b[1;32m   1489\u001b[0m             \u001b[39m\"\u001b[39m\u001b[39mnot found. Note: ancestor demes must be specified before \u001b[39m\u001b[39m\"\u001b[39m\n\u001b[1;32m   1490\u001b[0m             \u001b[39m\"\u001b[39m\u001b[39mtheir children.\u001b[39m\u001b[39m\"\u001b[39m\n\u001b[1;32m   1491\u001b[0m         )\n\u001b[1;32m   1492\u001b[0m \u001b[39mif\u001b[39;00m proportions \u001b[39mis\u001b[39;00m \u001b[39mNone\u001b[39;00m:\n\u001b[1;32m   1493\u001b[0m     \u001b[39mif\u001b[39;00m \u001b[39mlen\u001b[39m(ancestors) \u001b[39m==\u001b[39m \u001b[39m1\u001b[39m:\n",
      "\u001b[0;31mValueError\u001b[0m: deme[1] Ancestral_sampled_8000_0: ancestor deme 'Ancestral' not found. Note: ancestor demes must be specified before their children."
     ]
    },
    {
     "data": {
      "text/plain": [
       "<Figure size 720x1440 with 0 Axes>"
      ]
     },
     "metadata": {},
     "output_type": "display_data"
    }
   ],
   "source": [
    "\n",
    "# 4. Sample from model different pops and different time points\n",
    "# fig, axs = plt.subplots(nrows=len(graph.demes), ncols=2)\n",
    "# plt.subplots_adjust(hspace=0.5)\n",
    "\n",
    "fig = plt.figure(constrained_layout=True, figsize = (10,20))\n",
    "#fig.suptitle('Figure title')\n",
    "\n",
    "pops_plot = []\n",
    "for deme in graph.demes:\n",
    "        pops_plot.append(deme)\n",
    "\n",
    "subfigs = fig.subfigures(nrows=len(pops_plot), ncols=1)\n",
    "\n",
    "for pop,subfig in zip(pops_plot,subfigs):\n",
    "        deme = pop.name\n",
    "        subfig.suptitle(deme)\n",
    "        sampled_demes, sample_times, sample_sizes = sample_timepoints(deme,size = 100,time_points = 3)\n",
    "        print(np.flip(sample_times))\n",
    "        Ds = Dstat(graph, sampled_demes, np.flip(sample_times),rhos)\n",
    "        plot_D(Ds,rhos,sample_times,subfig,Ds_ancestral)\n",
    "\n",
    "#plt.show()\n",
    "plt.savefig('Figures/Dstat_pi_epochs_nonsymetrical_log_nomigration_reversedtime2.png')"
   ]
  },
  {
   "cell_type": "markdown",
   "metadata": {},
   "source": [
    "### Constant size, two pops"
   ]
  },
  {
   "cell_type": "code",
   "execution_count": null,
   "metadata": {},
   "outputs": [],
   "source": [
    "# constant pop size model\n",
    "# Create Builder\n",
    "m = demes.Builder()\n",
    "current_time = events*time_period\n",
    "\n",
    "# Add first Ancestor\n",
    "m.add_deme(\"Constant\",epochs=[dict(start_size=populations*N,end_time=current_time-time_period)])\n",
    "current_time = current_time-time_period\n",
    "\n",
    "m.add_deme(\"Constant2\",ancestors=['Constant'],epochs=[dict(start_size=populations*N)],start_time=current_time)\n",
    "#m.add_deme(name,ancestors=previous,proportions=list(np.repeat(np.array([1/populations]),populations)),start_time=current_time,epochs=[dict(start_size=populations*N, end_time=current_time-time_period)])\n",
    "# Resolver model\n",
    "graph = m.resolve()\n",
    "\n",
    "# Check demographic events\n",
    "graph.discrete_demographic_events()\n",
    "\n",
    "demesdraw.tubes(graph, log_time=False, num_lines_per_migration=3)"
   ]
  },
  {
   "cell_type": "code",
   "execution_count": null,
   "metadata": {},
   "outputs": [],
   "source": [
    "fig = plt.figure(constrained_layout=True, figsize = (10,7))\n",
    "subfigs = fig.subfigures(nrows=2, ncols=1)\n",
    "\n",
    "for pop,subfig in zip(graph.demes,subfigs):\n",
    "        deme = pop.name\n",
    "        subfig.suptitle(deme)\n",
    "        sampled_demes, sample_times, sample_sizes = sample_timepoints(deme,size = 100,time_points = 3)\n",
    "        Ds = Dstat(graph, sampled_demes, sample_times,rhos)\n",
    "        plot_D(Ds,rhos,sample_times,subfig,Ds_ancestral)\n",
    "\n",
    "plt.savefig('Figures/Dstat_pi_epochs_constant_twopops.png')"
   ]
  },
  {
   "cell_type": "markdown",
   "metadata": {},
   "source": [
    "### Popsize Change same pop"
   ]
  },
  {
   "cell_type": "code",
   "execution_count": null,
   "metadata": {},
   "outputs": [],
   "source": [
    "# Popsize Change\n",
    "\n",
    "# Create Builder\n",
    "m = demes.Builder()\n",
    "current_time = events*time_period\n",
    "\n",
    "# Add first Ancestor\n",
    "# ,end_size=populations*N*0.4\n",
    "m.add_deme(\"Deme\",epochs=[dict(start_size=populations*N,end_time=current_time),dict(start_size=populations*N*0.4,end_time=0)])\n",
    "\n",
    "#current_time = current_time-time_period\n",
    "#m.add_deme(\"Constant2\",ancestors=['Constant'],epochs=[dict(start_size=populations*N)],start_time=current_time)\n",
    "#m.add_deme(name,ancestors=previous,proportions=list(np.repeat(np.array([1/populations]),populations)),start_time=current_time,epochs=[dict(start_size=populations*N, end_time=current_time-time_period)])\n",
    "# Resolver model\n",
    "graph = m.resolve()\n",
    "\n",
    "# Check demographic events\n",
    "graph.discrete_demographic_events()\n",
    "\n",
    "ax = demesdraw.tubes(graph, log_time=False, num_lines_per_migration=3)\n",
    "ax.figure.savefig(\"Figures/Onepop_Sizechange.jpg\")"
   ]
  },
  {
   "cell_type": "code",
   "execution_count": null,
   "metadata": {},
   "outputs": [],
   "source": [
    "fig = plt.figure(constrained_layout=True, figsize = (10,7))\n",
    "subfigs = fig.subfigures(nrows=2, ncols=1)\n",
    "\n",
    "times = [[5001,5500,5999],[1,3000,4999]]\n",
    "\n",
    "# Ancestral stats\n",
    "sampled_demes, sample_times, sample_sizes = sample_timepoints('Deme',size = 100,time_points = 1)\n",
    "Ds_ancestral = Dstat(graph, sampled_demes,[6000],rhos)\n",
    "\n",
    "i=0\n",
    "for subfig in subfigs:\n",
    "        deme = 'Deme'\n",
    "        subfig.suptitle(deme)\n",
    "        #sampled_demes, sample_times, sample_sizes = sample_timepoints(deme,size = 100,time_points = 3)\n",
    "        Ds = Dstat(graph, ['Deme','Deme','Deme'],np.flip(times[i]),rhos)\n",
    "        plot_D(Ds,rhos,np.flip(times[i]),subfig,Ds_ancestral)\n",
    "        i=i+1\n",
    "\n",
    "plt.savefig('Figures/Dstat_pi_epochs_constant_twopops_reversed.png')"
   ]
  },
  {
   "cell_type": "code",
   "execution_count": null,
   "metadata": {},
   "outputs": [],
   "source": [
    "normal = moments.Demes.LD(graph, sampled_demes=['Deme','Deme','Deme'], sample_times=times[1],rho = rhos)\n",
    "flipped = moments.Demes.LD(graph, sampled_demes=['Deme','Deme','Deme'], sample_times=np.flip(times[1]),rho = rhos)\n",
    "flipped2 = moments.Demes.LD(graph, sampled_demes=['Deme','Deme','Deme'], sample_times=np.flip(times[1]),rho = rhos)\n",
    "\n",
    "# normal.LD() == flipped.LD()\n",
    "normal.LD() == flipped.LD()"
   ]
  },
  {
   "cell_type": "markdown",
   "metadata": {},
   "source": [
    "### Same model, no splits. Different pops"
   ]
  },
  {
   "cell_type": "code",
   "execution_count": null,
   "metadata": {},
   "outputs": [],
   "source": [
    "# Specify DEMES Model parameters\n",
    "N = 10e3 # Ancestral pop will have an N of N*populations\n",
    "splits = 2 # How many split events after merging\n",
    "populations = 1 # splits into populations \n",
    "proportions = [0.5,0.3] # proportions of N for new pops\n",
    "assert len(proportions) == splits*populations\n",
    "#proportions = 0\n",
    "time_period = 0.1*N\n",
    "\n",
    "events = splits*2+1\n",
    "current_time = events*time_period\n",
    "\n",
    "# Create Builder\n",
    "m = demes.Builder()\n",
    "\n",
    "# Add first Ancestor\n",
    "m.add_deme(\"Ancestral\",epochs=[dict(start_size=populations*N, end_time=current_time-time_period)])\n",
    "current_time = current_time-time_period\n",
    "\n",
    "split = 1 # Logical variable to know whether or not a split should be modeled\n",
    "previous = [\"Ancestral\"]\n",
    "\n",
    "size_proportions = proportions.copy() if proportions else list(np.repeat(np.array([1/populations]),populations))\n",
    "\n",
    "event = 0 \n",
    "split_i = 0\n",
    "while current_time > 0:\n",
    "    if split:\n",
    "        pops = []\n",
    "        for pop in np.arange(populations):\n",
    "            name=\"Split_\" + str(event) + str(pop)\n",
    "            # proportions=[size_proportions[0]]\n",
    "            m.add_deme(name,ancestors=previous,start_time=current_time,epochs=[dict(start_size=populations*N*size_proportions[0],end_time=current_time-time_period)])\n",
    "            pops.append(name)\n",
    "            size_proportions.pop(0)\n",
    "            print(size_proportions)\n",
    "        previous = pops\n",
    "        # m.add_migration(demes = pops, rate = 1e-4)\n",
    "        current_time = current_time-time_period\n",
    "        split = 0\n",
    "    else: \n",
    "        assert len(previous) == len(list(np.repeat(np.array([1/populations]),populations)))\n",
    "        name=\"Merge_\" + str(event)\n",
    "        m.add_deme(name,ancestors=previous,proportions=list(np.repeat(np.array([1/populations]),populations)),start_time=current_time,epochs=[dict(start_size=populations*N, end_time=current_time-time_period)])\n",
    "        previous = [name]\n",
    "        current_time = current_time-time_period\n",
    "        split = 1\n",
    "    event = event + 1 \n",
    "\n",
    "# Resolver model\n",
    "graph = m.resolve()\n",
    "\n",
    "# Check demographic events\n",
    "graph.discrete_demographic_events()\n",
    "\n",
    "demesdraw.tubes(graph, log_time=False, num_lines_per_migration=3)"
   ]
  },
  {
   "cell_type": "code",
   "execution_count": null,
   "metadata": {},
   "outputs": [],
   "source": [
    "# 4. Sample from model different pops and different time points\n",
    "# fig, axs = plt.subplots(nrows=len(graph.demes), ncols=2)\n",
    "# plt.subplots_adjust(hspace=0.5)\n",
    "\n",
    "fig = plt.figure(constrained_layout=True, figsize = (10,20))\n",
    "#fig.suptitle('Figure title')\n",
    "\n",
    "subfigs = fig.subfigures(nrows=len(graph.demes), ncols=1)\n",
    "\n",
    "for pop,subfig in zip(graph.demes,subfigs):\n",
    "        deme = pop.name\n",
    "        subfig.suptitle(deme)\n",
    "        sampled_demes, sample_times, sample_sizes = sample_timepoints(deme,size = 100,time_points = 3)\n",
    "        Ds = Dstat(graph, sampled_demes, sample_times,rhos)\n",
    "        plot_D(Ds,rhos,sample_times,subfig,Ds_ancestral)\n",
    "\n",
    "#plt.show()\n",
    "plt.savefig('Figures/Dstat_pi_epochs_nonsymetrical_log_nosplits.png')"
   ]
  },
  {
   "cell_type": "markdown",
   "metadata": {},
   "source": [
    "### Shorter time steps"
   ]
  },
  {
   "cell_type": "code",
   "execution_count": null,
   "metadata": {},
   "outputs": [],
   "source": []
  }
 ],
 "metadata": {
  "kernelspec": {
   "display_name": "Python 3",
   "language": "python",
   "name": "python3"
  },
  "language_info": {
   "codemirror_mode": {
    "name": "ipython",
    "version": 3
   },
   "file_extension": ".py",
   "mimetype": "text/x-python",
   "name": "python",
   "nbconvert_exporter": "python",
   "pygments_lexer": "ipython3",
   "version": "3.7.7 (default, May  5 2020, 15:36:34) \n[GCC 9.3.0]"
  },
  "orig_nbformat": 4,
  "vscode": {
   "interpreter": {
    "hash": "e41d4561028816b5428aebb83a83c059bdf12e0224e471a2c21e6a82f3a5abf0"
   }
  }
 },
 "nbformat": 4,
 "nbformat_minor": 2
}
